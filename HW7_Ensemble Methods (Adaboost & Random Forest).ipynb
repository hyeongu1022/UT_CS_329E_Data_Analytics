{
 "cells": [
  {
   "cell_type": "markdown",
   "metadata": {},
   "source": [
    "## C S 329E HW7\n",
    "\n",
    "# Ensemble Methods and Skewed Data\n",
    "\n",
    "## Hyeon Gu Kim\n",
    "\n",
    "For this week's homework we are going explore two ensemble methods:\n",
    "\n",
    "  - AdaBoost, and\n",
    "  - Random Forests\n",
    "  \n",
    "Along with applying different KPIs (key performance indicators) that are more appropriate to highly skewed data sets. \n",
    "\n",
    "The dataset contains transactions made by credit cards in September 2013 by european cardholders.\n",
    "This dataset presents transactions that occurred in two days, where we have 237 frauds out of 142,167 transactions. The dataset is highly unbalanced, the positive class (frauds) account for 0.17% of all transactions.\n",
    "\n",
    "It contains only numerical input variables which are the result of a [PCA transformation](https://en.wikipedia.org/wiki/Principal_component_analysis). Unfortunately, due to confidentiality issues, they cannot provide the original features and more background information about the data. Features V1, V2, … V28 are the principal components obtained with PCA, the only features which have not been transformed with PCA are 'Time' and 'Amount'. Feature 'Time' contains the seconds elapsed between each transaction and the first transaction in the dataset. The feature 'Amount' is the transaction Amount in Euros. Feature 'Class' is the response variable and it takes value 1 in case of fraud and 0 otherwise.\n",
    "\n",
    "At the end of this homework, I expect you to understand how to train and use ensemble classifiers, how to characterize model performance with ROC curves, and be familiar with the difference between accuracy, true positive rate, and positive predictive value. "
   ]
  },
  {
   "cell_type": "code",
   "execution_count": 1,
   "metadata": {},
   "outputs": [],
   "source": [
    "# These are the libraries you will use for this assignment, you may not import anything else\n",
    "import pandas as pd\n",
    "import numpy as np\n",
    "import matplotlib.pyplot as plt\n",
    "%matplotlib inline\n",
    "from sklearn.ensemble import AdaBoostClassifier\n",
    "from sklearn.ensemble import RandomForestClassifier\n",
    "from sklearn.model_selection import StratifiedKFold\n",
    "from sklearn.metrics import plot_roc_curve\n",
    "\n",
    "# This is the credit card data provided, we'll use sklearn methods to do cross validation\n",
    "# to estimate error\n",
    "df_cc = pd.read_csv('cc.csv')"
   ]
  },
  {
   "cell_type": "code",
   "execution_count": 2,
   "metadata": {},
   "outputs": [
    {
     "data": {
      "text/html": [
       "<div>\n",
       "<style scoped>\n",
       "    .dataframe tbody tr th:only-of-type {\n",
       "        vertical-align: middle;\n",
       "    }\n",
       "\n",
       "    .dataframe tbody tr th {\n",
       "        vertical-align: top;\n",
       "    }\n",
       "\n",
       "    .dataframe thead th {\n",
       "        text-align: right;\n",
       "    }\n",
       "</style>\n",
       "<table border=\"1\" class=\"dataframe\">\n",
       "  <thead>\n",
       "    <tr style=\"text-align: right;\">\n",
       "      <th></th>\n",
       "      <th>Time</th>\n",
       "      <th>V1</th>\n",
       "      <th>V2</th>\n",
       "      <th>V3</th>\n",
       "      <th>V4</th>\n",
       "      <th>V5</th>\n",
       "      <th>V6</th>\n",
       "      <th>V7</th>\n",
       "      <th>V8</th>\n",
       "      <th>V9</th>\n",
       "      <th>...</th>\n",
       "      <th>V21</th>\n",
       "      <th>V22</th>\n",
       "      <th>V23</th>\n",
       "      <th>V24</th>\n",
       "      <th>V25</th>\n",
       "      <th>V26</th>\n",
       "      <th>V27</th>\n",
       "      <th>V28</th>\n",
       "      <th>Amount</th>\n",
       "      <th>Class</th>\n",
       "    </tr>\n",
       "  </thead>\n",
       "  <tbody>\n",
       "    <tr>\n",
       "      <th>0</th>\n",
       "      <td>72222.0</td>\n",
       "      <td>1.190580</td>\n",
       "      <td>-0.188208</td>\n",
       "      <td>0.323583</td>\n",
       "      <td>-0.017402</td>\n",
       "      <td>-0.758874</td>\n",
       "      <td>-1.132340</td>\n",
       "      <td>-0.021169</td>\n",
       "      <td>-0.201165</td>\n",
       "      <td>0.364626</td>\n",
       "      <td>...</td>\n",
       "      <td>-0.103901</td>\n",
       "      <td>-0.442050</td>\n",
       "      <td>0.024706</td>\n",
       "      <td>0.438578</td>\n",
       "      <td>0.164461</td>\n",
       "      <td>0.930956</td>\n",
       "      <td>-0.096429</td>\n",
       "      <td>0.012989</td>\n",
       "      <td>57.00</td>\n",
       "      <td>0</td>\n",
       "    </tr>\n",
       "    <tr>\n",
       "      <th>1</th>\n",
       "      <td>65707.0</td>\n",
       "      <td>1.282559</td>\n",
       "      <td>0.270023</td>\n",
       "      <td>0.134166</td>\n",
       "      <td>0.618716</td>\n",
       "      <td>-0.291346</td>\n",
       "      <td>-0.893310</td>\n",
       "      <td>0.005146</td>\n",
       "      <td>-0.119655</td>\n",
       "      <td>0.219620</td>\n",
       "      <td>...</td>\n",
       "      <td>-0.324119</td>\n",
       "      <td>-0.983490</td>\n",
       "      <td>0.098567</td>\n",
       "      <td>-0.044337</td>\n",
       "      <td>0.228126</td>\n",
       "      <td>0.120401</td>\n",
       "      <td>-0.030385</td>\n",
       "      <td>0.024717</td>\n",
       "      <td>0.89</td>\n",
       "      <td>0</td>\n",
       "    </tr>\n",
       "    <tr>\n",
       "      <th>2</th>\n",
       "      <td>47048.0</td>\n",
       "      <td>-0.777343</td>\n",
       "      <td>0.081844</td>\n",
       "      <td>1.910231</td>\n",
       "      <td>1.194221</td>\n",
       "      <td>1.018604</td>\n",
       "      <td>0.438980</td>\n",
       "      <td>0.183102</td>\n",
       "      <td>0.017511</td>\n",
       "      <td>-0.193956</td>\n",
       "      <td>...</td>\n",
       "      <td>0.072843</td>\n",
       "      <td>0.361164</td>\n",
       "      <td>-0.159239</td>\n",
       "      <td>-0.743651</td>\n",
       "      <td>0.092543</td>\n",
       "      <td>-0.165719</td>\n",
       "      <td>-0.022370</td>\n",
       "      <td>-0.093903</td>\n",
       "      <td>40.00</td>\n",
       "      <td>0</td>\n",
       "    </tr>\n",
       "    <tr>\n",
       "      <th>3</th>\n",
       "      <td>127379.0</td>\n",
       "      <td>-0.887548</td>\n",
       "      <td>1.417217</td>\n",
       "      <td>0.753405</td>\n",
       "      <td>2.257167</td>\n",
       "      <td>1.392043</td>\n",
       "      <td>0.680374</td>\n",
       "      <td>0.531104</td>\n",
       "      <td>0.609270</td>\n",
       "      <td>-1.725432</td>\n",
       "      <td>...</td>\n",
       "      <td>-0.345603</td>\n",
       "      <td>-1.323231</td>\n",
       "      <td>0.219222</td>\n",
       "      <td>-0.080944</td>\n",
       "      <td>-0.791587</td>\n",
       "      <td>-0.773272</td>\n",
       "      <td>0.040113</td>\n",
       "      <td>0.099547</td>\n",
       "      <td>9.08</td>\n",
       "      <td>0</td>\n",
       "    </tr>\n",
       "    <tr>\n",
       "      <th>4</th>\n",
       "      <td>151137.0</td>\n",
       "      <td>1.819262</td>\n",
       "      <td>-0.445540</td>\n",
       "      <td>-0.186929</td>\n",
       "      <td>1.268411</td>\n",
       "      <td>-0.483948</td>\n",
       "      <td>0.164878</td>\n",
       "      <td>-0.572012</td>\n",
       "      <td>0.022557</td>\n",
       "      <td>1.071776</td>\n",
       "      <td>...</td>\n",
       "      <td>0.065024</td>\n",
       "      <td>0.222817</td>\n",
       "      <td>0.099592</td>\n",
       "      <td>-0.728832</td>\n",
       "      <td>-0.236169</td>\n",
       "      <td>-0.722497</td>\n",
       "      <td>0.068185</td>\n",
       "      <td>-0.010816</td>\n",
       "      <td>90.00</td>\n",
       "      <td>0</td>\n",
       "    </tr>\n",
       "    <tr>\n",
       "      <th>...</th>\n",
       "      <td>...</td>\n",
       "      <td>...</td>\n",
       "      <td>...</td>\n",
       "      <td>...</td>\n",
       "      <td>...</td>\n",
       "      <td>...</td>\n",
       "      <td>...</td>\n",
       "      <td>...</td>\n",
       "      <td>...</td>\n",
       "      <td>...</td>\n",
       "      <td>...</td>\n",
       "      <td>...</td>\n",
       "      <td>...</td>\n",
       "      <td>...</td>\n",
       "      <td>...</td>\n",
       "      <td>...</td>\n",
       "      <td>...</td>\n",
       "      <td>...</td>\n",
       "      <td>...</td>\n",
       "      <td>...</td>\n",
       "      <td>...</td>\n",
       "    </tr>\n",
       "    <tr>\n",
       "      <th>142399</th>\n",
       "      <td>65324.0</td>\n",
       "      <td>-0.559946</td>\n",
       "      <td>0.103121</td>\n",
       "      <td>0.319922</td>\n",
       "      <td>-0.973168</td>\n",
       "      <td>1.226528</td>\n",
       "      <td>-1.277010</td>\n",
       "      <td>1.106265</td>\n",
       "      <td>-0.394966</td>\n",
       "      <td>-0.566084</td>\n",
       "      <td>...</td>\n",
       "      <td>0.160310</td>\n",
       "      <td>0.518538</td>\n",
       "      <td>0.152764</td>\n",
       "      <td>0.102517</td>\n",
       "      <td>-0.821350</td>\n",
       "      <td>0.710368</td>\n",
       "      <td>0.148434</td>\n",
       "      <td>0.049325</td>\n",
       "      <td>57.81</td>\n",
       "      <td>0</td>\n",
       "    </tr>\n",
       "    <tr>\n",
       "      <th>142400</th>\n",
       "      <td>135695.0</td>\n",
       "      <td>1.833353</td>\n",
       "      <td>-0.450252</td>\n",
       "      <td>-0.469224</td>\n",
       "      <td>0.831620</td>\n",
       "      <td>0.415326</td>\n",
       "      <td>2.161855</td>\n",
       "      <td>-1.088867</td>\n",
       "      <td>0.775843</td>\n",
       "      <td>0.984546</td>\n",
       "      <td>...</td>\n",
       "      <td>0.037067</td>\n",
       "      <td>0.266594</td>\n",
       "      <td>0.349396</td>\n",
       "      <td>-1.025944</td>\n",
       "      <td>-0.514426</td>\n",
       "      <td>-0.739087</td>\n",
       "      <td>0.106196</td>\n",
       "      <td>-0.045159</td>\n",
       "      <td>1.00</td>\n",
       "      <td>0</td>\n",
       "    </tr>\n",
       "    <tr>\n",
       "      <th>142401</th>\n",
       "      <td>62620.0</td>\n",
       "      <td>-3.324328</td>\n",
       "      <td>-2.771390</td>\n",
       "      <td>1.883730</td>\n",
       "      <td>0.154892</td>\n",
       "      <td>0.142827</td>\n",
       "      <td>-1.327852</td>\n",
       "      <td>-1.089896</td>\n",
       "      <td>0.762312</td>\n",
       "      <td>-1.578990</td>\n",
       "      <td>...</td>\n",
       "      <td>0.165352</td>\n",
       "      <td>-0.626969</td>\n",
       "      <td>0.314974</td>\n",
       "      <td>0.442229</td>\n",
       "      <td>0.227412</td>\n",
       "      <td>-0.591151</td>\n",
       "      <td>-0.054984</td>\n",
       "      <td>-0.393804</td>\n",
       "      <td>205.77</td>\n",
       "      <td>0</td>\n",
       "    </tr>\n",
       "    <tr>\n",
       "      <th>142402</th>\n",
       "      <td>39607.0</td>\n",
       "      <td>-2.457284</td>\n",
       "      <td>-6.208370</td>\n",
       "      <td>-1.997703</td>\n",
       "      <td>1.251932</td>\n",
       "      <td>-2.132900</td>\n",
       "      <td>0.456995</td>\n",
       "      <td>2.335032</td>\n",
       "      <td>-0.384962</td>\n",
       "      <td>-0.115378</td>\n",
       "      <td>...</td>\n",
       "      <td>0.974168</td>\n",
       "      <td>-1.585880</td>\n",
       "      <td>-1.585928</td>\n",
       "      <td>-0.181570</td>\n",
       "      <td>-0.622555</td>\n",
       "      <td>0.678623</td>\n",
       "      <td>-0.442699</td>\n",
       "      <td>0.318217</td>\n",
       "      <td>1915.01</td>\n",
       "      <td>0</td>\n",
       "    </tr>\n",
       "    <tr>\n",
       "      <th>142403</th>\n",
       "      <td>147608.0</td>\n",
       "      <td>1.871051</td>\n",
       "      <td>0.221899</td>\n",
       "      <td>-0.042586</td>\n",
       "      <td>3.531304</td>\n",
       "      <td>0.248165</td>\n",
       "      <td>1.285607</td>\n",
       "      <td>-0.675794</td>\n",
       "      <td>0.367247</td>\n",
       "      <td>-0.541569</td>\n",
       "      <td>...</td>\n",
       "      <td>0.186848</td>\n",
       "      <td>0.601374</td>\n",
       "      <td>0.142002</td>\n",
       "      <td>0.178048</td>\n",
       "      <td>-0.165776</td>\n",
       "      <td>0.006957</td>\n",
       "      <td>0.009314</td>\n",
       "      <td>-0.038850</td>\n",
       "      <td>4.95</td>\n",
       "      <td>0</td>\n",
       "    </tr>\n",
       "  </tbody>\n",
       "</table>\n",
       "<p>142404 rows × 31 columns</p>\n",
       "</div>"
      ],
      "text/plain": [
       "            Time        V1        V2        V3        V4        V5        V6  \\\n",
       "0        72222.0  1.190580 -0.188208  0.323583 -0.017402 -0.758874 -1.132340   \n",
       "1        65707.0  1.282559  0.270023  0.134166  0.618716 -0.291346 -0.893310   \n",
       "2        47048.0 -0.777343  0.081844  1.910231  1.194221  1.018604  0.438980   \n",
       "3       127379.0 -0.887548  1.417217  0.753405  2.257167  1.392043  0.680374   \n",
       "4       151137.0  1.819262 -0.445540 -0.186929  1.268411 -0.483948  0.164878   \n",
       "...          ...       ...       ...       ...       ...       ...       ...   \n",
       "142399   65324.0 -0.559946  0.103121  0.319922 -0.973168  1.226528 -1.277010   \n",
       "142400  135695.0  1.833353 -0.450252 -0.469224  0.831620  0.415326  2.161855   \n",
       "142401   62620.0 -3.324328 -2.771390  1.883730  0.154892  0.142827 -1.327852   \n",
       "142402   39607.0 -2.457284 -6.208370 -1.997703  1.251932 -2.132900  0.456995   \n",
       "142403  147608.0  1.871051  0.221899 -0.042586  3.531304  0.248165  1.285607   \n",
       "\n",
       "              V7        V8        V9  ...       V21       V22       V23  \\\n",
       "0      -0.021169 -0.201165  0.364626  ... -0.103901 -0.442050  0.024706   \n",
       "1       0.005146 -0.119655  0.219620  ... -0.324119 -0.983490  0.098567   \n",
       "2       0.183102  0.017511 -0.193956  ...  0.072843  0.361164 -0.159239   \n",
       "3       0.531104  0.609270 -1.725432  ... -0.345603 -1.323231  0.219222   \n",
       "4      -0.572012  0.022557  1.071776  ...  0.065024  0.222817  0.099592   \n",
       "...          ...       ...       ...  ...       ...       ...       ...   \n",
       "142399  1.106265 -0.394966 -0.566084  ...  0.160310  0.518538  0.152764   \n",
       "142400 -1.088867  0.775843  0.984546  ...  0.037067  0.266594  0.349396   \n",
       "142401 -1.089896  0.762312 -1.578990  ...  0.165352 -0.626969  0.314974   \n",
       "142402  2.335032 -0.384962 -0.115378  ...  0.974168 -1.585880 -1.585928   \n",
       "142403 -0.675794  0.367247 -0.541569  ...  0.186848  0.601374  0.142002   \n",
       "\n",
       "             V24       V25       V26       V27       V28   Amount  Class  \n",
       "0       0.438578  0.164461  0.930956 -0.096429  0.012989    57.00      0  \n",
       "1      -0.044337  0.228126  0.120401 -0.030385  0.024717     0.89      0  \n",
       "2      -0.743651  0.092543 -0.165719 -0.022370 -0.093903    40.00      0  \n",
       "3      -0.080944 -0.791587 -0.773272  0.040113  0.099547     9.08      0  \n",
       "4      -0.728832 -0.236169 -0.722497  0.068185 -0.010816    90.00      0  \n",
       "...          ...       ...       ...       ...       ...      ...    ...  \n",
       "142399  0.102517 -0.821350  0.710368  0.148434  0.049325    57.81      0  \n",
       "142400 -1.025944 -0.514426 -0.739087  0.106196 -0.045159     1.00      0  \n",
       "142401  0.442229  0.227412 -0.591151 -0.054984 -0.393804   205.77      0  \n",
       "142402 -0.181570 -0.622555  0.678623 -0.442699  0.318217  1915.01      0  \n",
       "142403  0.178048 -0.165776  0.006957  0.009314 -0.038850     4.95      0  \n",
       "\n",
       "[142404 rows x 31 columns]"
      ]
     },
     "execution_count": 2,
     "metadata": {},
     "output_type": "execute_result"
    }
   ],
   "source": [
    "df_cc"
   ]
  },
  {
   "cell_type": "markdown",
   "metadata": {},
   "source": [
    "## Q1 Parition the data for cross validation\n",
    "\n",
    "Load the data, and split the data set into $X$ (the feature dataframe, `df_X`) and $y$ (the target series `s_y`). Define our partitions.  \n",
    "\n",
    "We know this is a _super_ skewed data set, so we worry about our target class being underrepresented in a random k-fold selection. With this in mind, we use a [stratifed k-fold](https://scikit-learn.org/stable/modules/generated/sklearn.model_selection.StratifiedKFold.html), since it will preserve our class balance in our experiements. Use $k=3$, . Instantiate an instance of the `StratifiedKFold` class, and use the generator `split` to populate the following dictonaries:\n",
    "   - `d_train_df_X` : where the key is the fold number, and the value is the attribute training dataframe at that fold\n",
    "   - `d_test_df_X`  : where the key is the fold number, and the value is the attribute test dataframe at that fold\n",
    "   - `d_train_s_y`  : where the key is the fold number, and the value is the target training series at that fold\n",
    "   - `d_train_s_y`  : where the key is the fold number, and the value is the target test series at that fold"
   ]
  },
  {
   "cell_type": "code",
   "execution_count": 3,
   "metadata": {},
   "outputs": [],
   "source": [
    "df_X = df_cc.drop(columns=['Class'])\n",
    "s_y = df_cc['Class']"
   ]
  },
  {
   "cell_type": "code",
   "execution_count": 4,
   "metadata": {},
   "outputs": [],
   "source": [
    "# StratifiedKFold from the Scikit library will split the data so we don't have to do CV.\n",
    "# StratifiedKFold maintains the balance of the data\n",
    "skf = StratifiedKFold(n_splits=3,shuffle=True,random_state=23)"
   ]
  },
  {
   "cell_type": "code",
   "execution_count": 5,
   "metadata": {},
   "outputs": [],
   "source": [
    "d_train_df_X = dict()\n",
    "d_test_df_X = dict()\n",
    "d_train_s_y = dict()\n",
    "d_test_s_y = dict()\n",
    "\n",
    "# Your code here\n",
    "fold = 1\n",
    "for train_idx, test_idx in skf.split(df_X, s_y):\n",
    "    d_train_df_X[fold] = df_X.loc[train_idx]\n",
    "    d_train_s_y[fold] = s_y.loc[train_idx]\n",
    "    d_test_df_X[fold] = df_X.loc[test_idx]\n",
    "    d_test_s_y[fold] = s_y.loc[test_idx]\n",
    "    fold += 1"
   ]
  },
  {
   "cell_type": "code",
   "execution_count": 6,
   "metadata": {
    "scrolled": true
   },
   "outputs": [
    {
     "name": "stdout",
     "output_type": "stream",
     "text": [
      "0    47389\n",
      "1       79\n",
      "Name: Class, dtype: int64\n",
      "0    47389\n",
      "1       79\n",
      "Name: Class, dtype: int64\n",
      "0    47389\n",
      "1       79\n",
      "Name: Class, dtype: int64\n"
     ]
    }
   ],
   "source": [
    "# Look at the test data and verify that the target training is equally distributed as possible\n",
    "for key in d_test_s_y.keys():\n",
    "    print(d_test_s_y[key].value_counts())"
   ]
  },
  {
   "cell_type": "markdown",
   "metadata": {},
   "source": [
    "## Section 1 - AdaBoost"
   ]
  },
  {
   "cell_type": "markdown",
   "metadata": {},
   "source": [
    "# Q2 Test the Performance of AdaBoost\n",
    "\n",
    "When we talked about AdaBoost in class, we used a collection of \"Decision Stumps\". In this assignment, we will use the implementation of [AdaBoost in Scikit-learn](https://scikit-learn.org/stable/modules/generated/sklearn.ensemble.AdaBoostClassifier.html).  As you browse the documentation, you will notice that the default base esimator in this implentation is a `DecisionTreeClassifier(max_depth=1)` (our friend the decision stump). \n",
    "\n",
    "After you fit an AdaBoost model, you can call the method `predict` to get a class prediction, or you can call `predict_proba` to get the probability of being in the class `0` or the class `1`. These probabilities are used when creating ROC curves. \n",
    "\n",
    "Loop over the $k$ folds using the dictionaries from the first problem, and for each fold calculate the accuracy, TPR, the PPV, and the FPR.  Plot the ROC curve for each fold. You may use the [plot roc curve](https://scikit-learn.org/stable/modules/generated/sklearn.metrics.plot_roc_curve.html) from Scikit-learn.  There is a great example in the documentation [on plotting ROC curves in cross validation](https://scikit-learn.org/stable/auto_examples/model_selection/plot_roc_crossval.html) that is helpful.  \n",
    "\n",
    "When creating your AdaBoost classifier, please use the following parameters: \n",
    "`AdaBoostClassifier(n_estimators=25, random_state=23)`\n",
    "\n",
    "Save the predictions from the 3rd fold into a variable called `y_hat_ab` for use in a future problem.\n"
   ]
  },
  {
   "cell_type": "code",
   "execution_count": 7,
   "metadata": {},
   "outputs": [],
   "source": [
    "k = 3\n",
    "# 만약 데이터가 엄청 큰 경우 growing dynamic array like appending list is computationaly heavy.\n",
    "acc_ab = np.zeros(k)\n",
    "tpr_ab = np.zeros(k)\n",
    "ppv_ab = np.zeros(k)\n",
    "fpr_ab = np.zeros(k)"
   ]
  },
  {
   "cell_type": "code",
   "execution_count": 8,
   "metadata": {},
   "outputs": [
    {
     "data": {
      "text/plain": [
       "Text(0.5, 1.0, 'ROC for Adaboost on Credit Card Fraud')"
      ]
     },
     "execution_count": 8,
     "metadata": {},
     "output_type": "execute_result"
    },
    {
     "data": {
      "image/png": "[encoded data removed]",
      "text/plain": [
       "<Figure size 864x576 with 1 Axes>"
      ]
     },
     "metadata": {
      "needs_background": "light"
     },
     "output_type": "display_data"
    }
   ],
   "source": [
    "# your code here\n",
    "fig, ax = plt.subplots(figsize=(12,8))\n",
    "ax.plot([0, 1], [0, 1], linestyle='--', lw=2, color='r', alpha=.8)\n",
    "for i in range(1, k+1):\n",
    "    clf = AdaBoostClassifier(n_estimators=25, random_state=23)\n",
    "    clf.fit(d_train_df_X[i], d_train_s_y[i]) # Train the model\n",
    "    y_hats = clf.predict(d_test_df_X[i]) # Test the model\n",
    "    acc = 0\n",
    "    tp, fn, fp, tn = 0, 0, 0, 0\n",
    "    for y_hat, y in zip(y_hats, d_test_s_y[i]): #comparison\n",
    "        if y_hat == y:\n",
    "            acc += 1\n",
    "        if (y_hat == 1) and (y == 1): #if predicted is + and actual is + -> True Positive\n",
    "            tp += 1\n",
    "        elif (y_hat == 1) and (y == 0): #if predcited is + but actual is - -> False Positive\n",
    "            fp += 1\n",
    "        elif (y_hat == 0) and (y == 1): #if predcited is - but actual is + -> False Negative\n",
    "            fn += 1\n",
    "        elif (y_hat == 0) and (y == 0): #if predcited is - but actual is - -> True Negative\n",
    "            tn += 1\n",
    "    acc_ab[i-1] = acc / len(d_test_s_y[i])\n",
    "    tpr_ab[i-1] = tp/(tp + fn)\n",
    "    ppv_ab[i-1] = tp/(tp + fp)\n",
    "    fpr_ab[i-1] = fp/(fp + tn)\n",
    "    # ROC plot\n",
    "    plot_roc_curve(clf, d_test_df_X[i], d_test_s_y[i], name = 'ROC fold {}'.format(i), ax = ax)\n",
    "    # Save the predictions from the 3rd fold into a variable called y_hat_ab for use in a future problem.\n",
    "    if i == 3:\n",
    "        y_hat_ab = y_hats\n",
    "plt.grid()\n",
    "plt.xlabel(\"False Positive Rate\", fontsize=15)\n",
    "plt.ylabel(\"True Positive Rate\", fontsize=15)\n",
    "plt.title(\"ROC for Adaboost on Credit Card Fraud\", fontsize=20)"
   ]
  },
  {
   "cell_type": "code",
   "execution_count": 9,
   "metadata": {},
   "outputs": [
    {
     "name": "stdout",
     "output_type": "stream",
     "text": [
      "The min, mean, and max TPR are: 0.62, 0.65, and 0.71\n",
      "The min, mean, and max PPV are: 0.75, 0.79, and 0.82\n",
      "The min, mean, and max FPR are: 0.00, 0.00, and 0.00\n",
      "The min, mean, and max ACC are: 1.00, 1.00, and 1.00\n"
     ]
    }
   ],
   "source": [
    "print('The min, mean, and max TPR are: {:.2f}, {:.2f}, and {:.2f}'.format(tpr_ab.min(), tpr_ab.mean(), tpr_ab.max()))\n",
    "print('The min, mean, and max PPV are: {:.2f}, {:.2f}, and {:.2f}'.format(ppv_ab.min(), ppv_ab.mean(), ppv_ab.max()))\n",
    "print('The min, mean, and max FPR are: {:.2f}, {:.2f}, and {:.2f}'.format(fpr_ab.min(), fpr_ab.mean(), fpr_ab.max()))\n",
    "print('The min, mean, and max ACC are: {:.2f}, {:.2f}, and {:.2f}'.format(acc_ab.min(), acc_ab.mean(), acc_ab.max()))\n",
    "\n",
    "# The reason why accuracy is 100% is that the dat ais skewed data.\n",
    "# So accuracy is NOT a good tool when skewed data."
   ]
  },
  {
   "cell_type": "markdown",
   "metadata": {},
   "source": [
    "## Q3 Test the Performance of Random Forests\n",
    "\n",
    "Now, let's try another ensemble method: Random Forests, again using the [Scikit-learn implementation](https://scikit-learn.org/stable/modules/generated/sklearn.ensemble.RandomForestClassifier.html). \n",
    "\n",
    "Following our book, we will build complete trees, with no pruning.  That means every leaf in the tree will be completelely pure, and if you exam an individual Decision Tree it would be overtrained to our training set.  While building the decision trees, at every internal node, we select $p$ attributes at random, and then find the best split that minimizes impurtity.  The value, $p$, is a hyperparamter of the Random Forest and corresponds to the `max_features` parameter in the Random Forest Class. \n",
    "\n",
    "After you fit an RandomForest model, you can call the method `predict` to get a class prediction, or you can call `predict_proba` to get the probability of being in the class `0` or the class `1`. These probabilities are used when creating ROC curves. \n",
    "\n",
    "Loop over the $k$ folds using the dictionaries from the first problem, and for each fold calculate the accuracy, TPR, the PPV, and the FPR.  Plot the ROC curve for each fold. You may use the [plot roc curve](https://scikit-learn.org/stable/modules/generated/sklearn.metrics.plot_roc_curve.html) from Scikit-learn. There is a great example in the documentation [on plotting ROC curves in cross validation](https://scikit-learn.org/stable/auto_examples/model_selection/plot_roc_crossval.html) that is helpful.  \n",
    "\n",
    "When creating your Random Forest classifier, please use the following parameters: \n",
    "`RandomForestClassifier(criterion=\"entropy\", max_features=\"sqrt\", random_state=23)`\n",
    "\n",
    "Save the predictions from the 3rd fold into a variable called `y_hat_rf` for use in a future problem."
   ]
  },
  {
   "cell_type": "code",
   "execution_count": 10,
   "metadata": {},
   "outputs": [],
   "source": [
    "k = 3\n",
    "acc_rf = np.zeros(k)\n",
    "tpr_rf = np.zeros(k)\n",
    "ppv_rf = np.zeros(k)\n",
    "fpr_rf = np.zeros(k)"
   ]
  },
  {
   "cell_type": "code",
   "execution_count": 11,
   "metadata": {},
   "outputs": [
    {
     "data": {
      "text/plain": [
       "Text(0.5, 1.0, 'ROC for Random Forest on Credit Card Fraud')"
      ]
     },
     "execution_count": 11,
     "metadata": {},
     "output_type": "execute_result"
    },
    {
     "data": {
      "image/png": "[encoded data removed]",
      "text/plain": [
       "<Figure size 864x576 with 1 Axes>"
      ]
     },
     "metadata": {
      "needs_background": "light"
     },
     "output_type": "display_data"
    }
   ],
   "source": [
    "# your code here\n",
    "fig, ax = plt.subplots(figsize=(12,8))\n",
    "ax.plot([0, 1], [0, 1], linestyle='--', lw=2, color='r', alpha=.8)\n",
    "for i in range(1, k+1):\n",
    "    clf = RandomForestClassifier(criterion=\"entropy\", max_features=\"sqrt\", random_state=23)\n",
    "    clf.fit(d_train_df_X[i], d_train_s_y[i])\n",
    "    y_hats = clf.predict(d_test_df_X[i])\n",
    "    acc = 0\n",
    "    tp, fn, fp, tn = 0, 0, 0, 0\n",
    "    for y_hat, y in zip(y_hats, d_test_s_y[i]): #comparison\n",
    "        if y_hat == y:\n",
    "            acc += 1\n",
    "        if (y_hat == 1) and (y == 1): #if predicted is + and actual is + -> True Positive\n",
    "            tp += 1\n",
    "        elif (y_hat == 1) and (y == 0): #if predcited is + but actual is - -> False Positive\n",
    "            fp += 1\n",
    "        elif (y_hat == 0) and (y == 1): #if predcited is - but actual is + -> False Negative\n",
    "            fn += 1\n",
    "        elif (y_hat == 0) and (y == 0): #if predcited is - but actual is - -> True Negative\n",
    "            tn += 1\n",
    "    acc_rf[i-1] = acc / len(d_test_s_y[i])\n",
    "    tpr_rf[i-1] = tp/(tp + fn)\n",
    "    ppv_rf[i-1] = tp/(tp + fp)\n",
    "    fpr_rf[i-1] = fp/(fp + tn)\n",
    "    # ROC Plot\n",
    "    plot_roc_curve(clf, d_test_df_X[i], d_test_s_y[i], name = 'ROC fold {}'.format(i), ax = ax)\n",
    "    # Save the predictions from the 3rd fold into a variable called y_hat_rf for use in a future problem.\n",
    "    if i == 3:\n",
    "        y_hat_rf = y_hats\n",
    "plt.grid()\n",
    "plt.xlabel(\"False Positive Rate\", fontsize=15)\n",
    "plt.ylabel(\"True Positive Rate\", fontsize=15)\n",
    "plt.title(\"ROC for Random Forest on Credit Card Fraud\", fontsize=20)"
   ]
  },
  {
   "cell_type": "code",
   "execution_count": 12,
   "metadata": {},
   "outputs": [
    {
     "name": "stdout",
     "output_type": "stream",
     "text": [
      "The min, mean, and max TPR are: 0.75, 0.78, and 0.80\n",
      "The min, mean, and max PPV are: 0.92, 0.93, and 0.95\n",
      "The min, mean, and max FPR are: 0.00, 0.00, and 0.00\n",
      "The min, mean, and max ACC are: 1.00, 1.00, and 1.00\n"
     ]
    }
   ],
   "source": [
    "print('The min, mean, and max TPR are: {:.2f}, {:.2f}, and {:.2f}'.format(tpr_rf.min(), tpr_rf.mean(), tpr_rf.max()))\n",
    "print('The min, mean, and max PPV are: {:.2f}, {:.2f}, and {:.2f}'.format(ppv_rf.min(), ppv_rf.mean(), ppv_rf.max()))\n",
    "print('The min, mean, and max FPR are: {:.2f}, {:.2f}, and {:.2f}'.format(fpr_ab.min(), fpr_ab.mean(), fpr_ab.max()))\n",
    "print('The min, mean, and max ACC are: {:.2f}, {:.2f}, and {:.2f}'.format(acc_rf.min(), acc_rf.mean(), acc_rf.max()))"
   ]
  },
  {
   "cell_type": "markdown",
   "metadata": {},
   "source": [
    "# Q4 Calculate the Cost of Fraud \n",
    "\n",
    "In the above problems, we saved the predictions of the 3rd fold into the variables `y_hat_ab` and `y_hat_rf` for the AdaBoost and RandomForest models respectively. \n",
    "\n",
    "Now, Mr. Bank Man wants you to tell him how much money he is going to save if he deploys either of these fraud algorithms to the real-time payment processing system.  Assume that there is not a currently deployed fraud detection algorithm.  \n",
    "\n",
    "For every fraudulent transaction that is not predicted as fraudulent the bank looses twice the value of the transaction.  So, if a fradulent charge for €10 is undectected, it costs the bank €20.  Also, if a charge is predicted as fradulent, but wasn't, it costs the bank a flat fee of €3 in customer service support to communicate with the customer, and mark the possible fraud as a normal transaction. \n",
    "\n",
    "Using the 3rd fold test sample, calculate how much money Mr Bank Man will save by deploying each algorithm, and make a recommendation of which algorithm to deploy to production.  To calculate savings to the bank, you must first calculate the cost of the status quo, which is having no algorithm deployed. "
   ]
  },
  {
   "cell_type": "code",
   "execution_count": 13,
   "metadata": {},
   "outputs": [
    {
     "data": {
      "text/plain": [
       "array([0.99913626, 0.99903093, 0.99922053])"
      ]
     },
     "execution_count": 13,
     "metadata": {},
     "output_type": "execute_result"
    }
   ],
   "source": [
    "acc_ab"
   ]
  },
  {
   "cell_type": "code",
   "execution_count": 14,
   "metadata": {},
   "outputs": [
    {
     "name": "stdout",
     "output_type": "stream",
     "text": [
      "4241058.91\n",
      "Mr.Bank Man will lose 22484.74 if he does not deploy any fraud detection algorithm.\n",
      "Mr.Bank Man will lose 8538.32 if he deploys Adaboost fraud detection algorithm.\n",
      "Mr.Bank Man will lose 4363.38 if he deploys Random Forest fraud detection algorithm.\n",
      "\n",
      "Adaboost saves 13946.42\n",
      "Random Forest saves 18121.36\n"
     ]
    }
   ],
   "source": [
    "# fees\n",
    "status_quo = 0\n",
    "adaboost = 0\n",
    "random_forest = 0\n",
    "\n",
    "sample_3fold_X = d_test_df_X[3]\n",
    "sample_3fold_y = d_test_s_y[3]\n",
    "\n",
    "for i in range(len(sample_3fold_X)):\n",
    "    # Status Quo\n",
    "    if sample_3fold_y.iloc[i] == 1:\n",
    "        status_quo += 2*(sample_3fold_X['Amount'].iloc[i])\n",
    "    # Adaboost\n",
    "    if (sample_3fold_y.iloc[i] == 1) and (y_hat_ab[i] == 0):\n",
    "        adaboost += 2*(sample_3fold_X['Amount'].iloc[i])\n",
    "    elif (sample_3fold_y.iloc[i] == 0) and (y_hat_ab[i] == 1):\n",
    "        adaboost += 3\n",
    "    # Random Forest\n",
    "    if (sample_3fold_y.iloc[i] == 1) and (y_hat_rf[i] == 0):\n",
    "        random_forest += 2*(sample_3fold_X['Amount'].iloc[i])\n",
    "    elif (sample_3fold_y.iloc[i] == 0) and (y_hat_rf[i] == 1):\n",
    "        random_forest += 3\n",
    "\n",
    "print(sample_3fold_X['Amount'].sum())\n",
    "print(\"Mr.Bank Man will lose {} if he does not deploy any fraud detection algorithm.\".format(round(status_quo, 2)))\n",
    "print(\"Mr.Bank Man will lose {} if he deploys Adaboost fraud detection algorithm.\".format(round(adaboost, 2)))\n",
    "print(\"Mr.Bank Man will lose {} if he deploys Random Forest fraud detection algorithm.\\n\".format(round(random_forest, 2)))\n",
    "print(\"Adaboost saves {}\".format(round(status_quo - adaboost, 2)))\n",
    "print(\"Random Forest saves {}\".format(round(status_quo - random_forest, 2)))"
   ]
  },
  {
   "cell_type": "markdown",
   "metadata": {},
   "source": [
    "➡️ Mr Bank man will save money, if we deploy the <b>Random Forest</b> algorithm! Random Forest algorithm will save him <b>€18121.36</b> while Adaboost algorithm will save him €13946.42.⬅️"
   ]
  },
  {
   "cell_type": "code",
   "execution_count": null,
   "metadata": {},
   "outputs": [],
   "source": []
  }
 ],
 "metadata": {
  "kernelspec": {
   "display_name": "Python 3",
   "language": "python",
   "name": "python3"
  },
  "language_info": {
   "codemirror_mode": {
    "name": "ipython",
    "version": 3
   },
   "file_extension": ".py",
   "mimetype": "text/x-python",
   "name": "python",
   "nbconvert_exporter": "python",
   "pygments_lexer": "ipython3",
   "version": "3.7.6"
  }
 },
 "nbformat": 4,
 "nbformat_minor": 4
}
