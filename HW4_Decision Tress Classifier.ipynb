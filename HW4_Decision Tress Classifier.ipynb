{
 "cells": [
  {
   "cell_type": "markdown",
   "metadata": {},
   "source": [
    "### C S 329E HW 4\n",
    "\n",
    "## Pair Programming Group Number: FILL IN HERE\n",
    "## Members of Team: Hyeon Gu Kim\n",
    "\n",
    "## Decision Tree Classifier\n",
    "\n",
    "\n",
    "For this weeks homework we are going to explore ideas around decision tree implementation!  \n",
    "\n",
    "We will implement some helper functions that would be necessary for a home-grown tree:\n",
    "  - calc_entropy\n",
    "  - calc_gini\n",
    "  \n",
    "and them test them out at given data splits. \n",
    "  \n",
    "And finally, to perform predictive and descriptive analytics we use the [Decision Tree Classifier](https://scikit-learn.org/stable/modules/tree.html#classification) class in the scikit-learn package.\n",
    "\n",
    "  \n",
    "For this assignment, the stopping condition will be the depth of the tree. The impurity measure can be either `Entropy` or `Gini`.\n",
    "\n",
    "To test our tree built from the Decision Tree Classifier class, we will revisit our Melbourne housing data (that has been cleaned and pruned) and use the files:\n",
    "\n",
    "   - `melb_tree_train.csv` for training the decision tree (we'll also see what happens if we use the same data to test as we used to train the data in the last problem)\n",
    "   - `melb_tree_test.csv` for testing the decision tree\n",
    "\n",
    "There are 10 features in these dataframes that we can use to describe and predict the class label housing \"Type\", which is 'h' house, 'u' duplex, or 't' townhome. "
   ]
  },
  {
   "cell_type": "code",
   "execution_count": 1,
   "metadata": {},
   "outputs": [
    {
     "name": "stdout",
     "output_type": "stream",
     "text": [
      "Requirement already satisfied: graphviz in /opt/anaconda3/lib/python3.7/site-packages (0.16)\n",
      "Note: you may need to restart the kernel to use updated packages.\n"
     ]
    }
   ],
   "source": [
    "pip install graphviz"
   ]
  },
  {
   "cell_type": "code",
   "execution_count": 2,
   "metadata": {},
   "outputs": [],
   "source": [
    "# import the libraries\n",
    "import pandas as pd\n",
    "import numpy as np\n",
    "import matplotlib.pyplot as plt\n",
    "%matplotlib inline\n",
    "from math import log2\n",
    "from sklearn import tree # you'll probably need to install this - look at Q6 for a link \n",
    "import graphviz # you'll probably need to install this - look at Q6 for a link "
   ]
  },
  {
   "cell_type": "markdown",
   "metadata": {},
   "source": [
    "## Q1 Load the Data\n",
    "Load in the melb_tree_train.csv into a dataframe, and split that dataframe into `df_X`, which contains the features of the data set (everything but `Type`), and `s_y`, the series containing just the class label (just `Type`). The lengths of `df_X` and `s_y` should match."
   ]
  },
  {
   "cell_type": "code",
   "execution_count": 3,
   "metadata": {},
   "outputs": [
    {
     "name": "stdout",
     "output_type": "stream",
     "text": [
      "Length of df_X: 810 \n",
      "Length of s_y: 810\n"
     ]
    }
   ],
   "source": [
    "train_df = pd.read_csv(\"melb_tree_train.csv\")\n",
    "df_X = train_df[['Rooms', 'Price', 'Distance', 'Bedroom2', 'Bathroom', 'Car', 'Landsize', 'BuildingArea', 'YearBuilt',\\\n",
    "                'CouncilArea']]\n",
    "s_y = train_df['Type']\n",
    "print(\"Length of df_X: {} \\nLength of s_y: {}\".format(df_X.shape[0], s_y.shape[0]))"
   ]
  },
  {
   "cell_type": "markdown",
   "metadata": {},
   "source": [
    "## Q2 Implement a function to calculate entropy \n",
    "Implement a function `calc_entropy` that takes the the class label series, `s_y`, as a parameter. Implement using the definition on p128 in the DM book and only use pandas and log2 libraries"
   ]
  },
  {
   "cell_type": "code",
   "execution_count": 4,
   "metadata": {},
   "outputs": [],
   "source": [
    "# calc_entropy(s_y) definition\n",
    "def calc_entropy(s_y):\n",
    "    val_counts = len(s_y.value_counts())\n",
    "    total = sum(s_y.value_counts())\n",
    "    entropy = 0\n",
    "    for i in range(0, val_counts):\n",
    "        a = s_y.value_counts().iloc[i]\n",
    "        entropy += (-(a/total)*log2(a/total))\n",
    "    return entropy"
   ]
  },
  {
   "cell_type": "markdown",
   "metadata": {},
   "source": [
    "## Q3 Use the entropy function to\n",
    "  - (a) Calculate the entropy of the entire training set\n",
    "  - (b) Calculate the entropy of the three partitions formed from \n",
    "    * Landsize $\\in$ [0,200]\n",
    "    * Landsize $\\in$ (200,450]\n",
    "    * Landsize $\\in$ (450, $\\infty$)"
   ]
  },
  {
   "cell_type": "code",
   "execution_count": 5,
   "metadata": {},
   "outputs": [
    {
     "name": "stdout",
     "output_type": "stream",
     "text": [
      "Entropy of the entire data set: 1.582533311426178\n"
     ]
    }
   ],
   "source": [
    "# The entire data set\n",
    "print(\"Entropy of the entire data set: {}\".format(calc_entropy(s_y)))"
   ]
  },
  {
   "cell_type": "code",
   "execution_count": 6,
   "metadata": {},
   "outputs": [
    {
     "name": "stdout",
     "output_type": "stream",
     "text": [
      "Entropy of partition where Landsize is less than 200: 1.3456432116206725\n"
     ]
    }
   ],
   "source": [
    "# Less than or equal to 200\n",
    "landType_df = train_df[['Landsize', 'Type']].sort_values(by='Landsize')\n",
    "lessThan200 = landType_df.loc[landType_df['Landsize'] <= 200]\n",
    "print(\"Entropy of partition where Landsize is less than 200: {}\".format(calc_entropy(lessThan200['Type'])))"
   ]
  },
  {
   "cell_type": "code",
   "execution_count": 7,
   "metadata": {
    "scrolled": true
   },
   "outputs": [
    {
     "name": "stdout",
     "output_type": "stream",
     "text": [
      "Entropy of partition where Landsize is between 200 and 450: 1.4660501816027975\n"
     ]
    }
   ],
   "source": [
    "# Between 200 and 450\n",
    "btw200And450 = landType_df.loc[ landType_df['Landsize'].gt(200) & landType_df['Landsize'].le(450) ]\n",
    "print(\"Entropy of partition where Landsize is between 200 and 450: {}\".format(calc_entropy(btw200And450['Type'])))"
   ]
  },
  {
   "cell_type": "code",
   "execution_count": 8,
   "metadata": {},
   "outputs": [
    {
     "name": "stdout",
     "output_type": "stream",
     "text": [
      "Entropy of partition where Landsize is greater than 450: 1.09954792005911\n"
     ]
    }
   ],
   "source": [
    "# greater than 450\n",
    "greaterThan450 = landType_df.loc[ landType_df['Landsize'].gt(450) ]\n",
    "print(\"Entropy of partition where Landsize is greater than 450: {}\".format(calc_entropy(greaterThan450['Type'])))"
   ]
  },
  {
   "cell_type": "markdown",
   "metadata": {},
   "source": [
    "## Q4 Implement a function to calculate the Gini Index\n",
    "Implement the function `calc_gini` that takes the class label series, `s_y`, as a parameter. Implement using the definition on p128 in the DM book and only use the pandas library."
   ]
  },
  {
   "cell_type": "code",
   "execution_count": 9,
   "metadata": {},
   "outputs": [],
   "source": [
    "def calc_gini( s_y ):\n",
    "    val_counts = len(s_y.value_counts())\n",
    "    total = sum(s_y.value_counts())\n",
    "    p = 0\n",
    "    for i in range(0, val_counts):\n",
    "        a = s_y.value_counts().iloc[i]\n",
    "        p += ((a/total)**2)\n",
    "    gini = 1 - p\n",
    "    return gini"
   ]
  },
  {
   "cell_type": "code",
   "execution_count": 10,
   "metadata": {},
   "outputs": [
    {
     "data": {
      "text/plain": [
       "248"
      ]
     },
     "execution_count": 10,
     "metadata": {},
     "output_type": "execute_result"
    }
   ],
   "source": [
    "s_y.value_counts().iloc[2]"
   ]
  },
  {
   "cell_type": "markdown",
   "metadata": {},
   "source": [
    "## Q5 Use the Gini Index function to\n",
    "  - (a) Calculate the Gini index of the entire training set\n",
    "  - (b) Calculate the Gini index of the three partitions formed from \n",
    "    * Landsize $\\in$ [0,200]\n",
    "    * Landsize $\\in$ (200,450]\n",
    "    * Landsize $\\in$ (450, $\\infty$)"
   ]
  },
  {
   "cell_type": "code",
   "execution_count": 11,
   "metadata": {},
   "outputs": [
    {
     "name": "stdout",
     "output_type": "stream",
     "text": [
      "Gini index of the entire data set: 0.6655601280292638\n"
     ]
    }
   ],
   "source": [
    "# The entire data set\n",
    "print(\"Gini index of the entire data set: {}\".format(calc_gini(s_y)))"
   ]
  },
  {
   "cell_type": "code",
   "execution_count": 12,
   "metadata": {},
   "outputs": [
    {
     "name": "stdout",
     "output_type": "stream",
     "text": [
      "Gini index of partition where Landsize is less than 200: 0.5741211482422965\n"
     ]
    }
   ],
   "source": [
    "# Less than or equal to 200\n",
    "lessThan200Gini = landType_df.loc[landType_df['Landsize'] <= 200]\n",
    "print(\"Gini index of partition where Landsize is less than 200: {}\".format(calc_gini(lessThan200Gini['Type'])))"
   ]
  },
  {
   "cell_type": "code",
   "execution_count": 13,
   "metadata": {},
   "outputs": [
    {
     "name": "stdout",
     "output_type": "stream",
     "text": [
      "Gini index of partition where Landsize is between 200 and 450: 0.6101021682602731\n"
     ]
    }
   ],
   "source": [
    "# Between 200 and 450\n",
    "btw200And450Gini = landType_df.loc[ landType_df['Landsize'].gt(200) & landType_df['Landsize'].le(450) ]\n",
    "print(\"Gini index of partition where Landsize is between 200 and 450: {}\".format(calc_gini(btw200And450Gini['Type'])))"
   ]
  },
  {
   "cell_type": "code",
   "execution_count": 14,
   "metadata": {},
   "outputs": [
    {
     "name": "stdout",
     "output_type": "stream",
     "text": [
      "Gini index of partition where Landsize is greater than 450: 0.43819341715976323\n"
     ]
    }
   ],
   "source": [
    "# greater than 450\n",
    "greaterThan450Gini = landType_df.loc[ landType_df['Landsize'].gt(450) ]\n",
    "print(\"Gini index of partition where Landsize is greater than 450: {}\".format(calc_gini(greaterThan450Gini['Type'])))"
   ]
  },
  {
   "cell_type": "markdown",
   "metadata": {},
   "source": [
    "## Q6 Create a decision tree \n",
    "Using [scikit-learn](https://scikit-learn.org/stable/modules/tree.html#tree) create a multi class classifer for the data set using the Entropy impurity measure and a max depth of 3.\n",
    "\n",
    "Note that scikit-learn's algorithm doesn't handle categorical data, so that needs to be preprocessed using an one hot encoding.\n",
    "\n",
    "Display the tree using `export_text` from sklearn.tree, and use that information to write some descriptive analytics on the classification of houses.  For extra fun, use the export_graphviz to draw the graph (see documentation on the [scikit-learn webpage](https://scikit-learn.org/stable/modules/tree.html#classification)). "
   ]
  },
  {
   "cell_type": "code",
   "execution_count": 15,
   "metadata": {},
   "outputs": [],
   "source": [
    "# One Hot Encoding\n",
    "encoded_train_df = pd.get_dummies(train_df, columns=['Type', 'CouncilArea'])"
   ]
  },
  {
   "cell_type": "code",
   "execution_count": 16,
   "metadata": {},
   "outputs": [],
   "source": [
    "# Create Tree\n",
    "train_x = encoded_train_df[['Rooms', 'Price', 'Distance', 'Bedroom2', 'Bathroom', 'Car', 'Landsize', 'BuildingArea', 'YearBuilt', \\\n",
    "          'CouncilArea_Banyule', 'CouncilArea_Bayside', 'CouncilArea_Boroondara', 'CouncilArea_Brimbank', \\\n",
    "           'CouncilArea_Darebin', 'CouncilArea_Glen Eira', 'CouncilArea_Hobsons Bay', 'CouncilArea_Hume', \\\n",
    "           'CouncilArea_Kingston', 'CouncilArea_Knox', 'CouncilArea_Manningham', 'CouncilArea_Maribyrnong', \\\n",
    "           'CouncilArea_Melbourne', 'CouncilArea_Monash', 'CouncilArea_Moonee Valley', 'CouncilArea_Moreland', \\\n",
    "           'CouncilArea_Port Phillip', 'CouncilArea_Stonnington', 'CouncilArea_Whitehorse', 'CouncilArea_Wyndham', \\\n",
    "           'CouncilArea_Yarra']]\n",
    "train_y = encoded_train_df[['Type_h', 'Type_t', 'Type_u']]\n",
    "clf = tree.DecisionTreeClassifier(criterion='entropy', max_depth=3)\n",
    "clf = clf.fit(train_x, train_y)"
   ]
  },
  {
   "cell_type": "code",
   "execution_count": 17,
   "metadata": {},
   "outputs": [
    {
     "data": {
      "text/plain": [
       "[Text(167.4, 190.26, 'X[7] <= 99.5\\nentropy = 0.917\\nsamples = 810\\nvalue = [[562, 248]\\n[529, 281]\\n[529, 281]]'),\n",
       " Text(83.7, 135.9, 'X[6] <= 76.0\\nentropy = 0.666\\nsamples = 291\\nvalue = [[257, 34]\\n[245, 46]\\n[80, 211]]'),\n",
       " Text(41.85, 81.53999999999999, 'X[7] <= 81.5\\nentropy = 0.258\\nsamples = 141\\nvalue = [[140, 1]\\n[132, 9]\\n[10, 131]]'),\n",
       " Text(20.925, 27.180000000000007, 'entropy = 0.128\\nsamples = 102\\nvalue = [[102, 0]\\n[99, 3]\\n[3, 99]]'),\n",
       " Text(62.775000000000006, 27.180000000000007, 'entropy = 0.49\\nsamples = 39\\nvalue = [[38, 1]\\n[33, 6]\\n[7, 32]]'),\n",
       " Text(125.55000000000001, 81.53999999999999, 'X[8] <= 1957.5\\nentropy = 0.854\\nsamples = 150\\nvalue = [[117, 33]\\n[113, 37]\\n[70, 80]]'),\n",
       " Text(104.625, 27.180000000000007, 'entropy = 0.693\\nsamples = 36\\nvalue = [[12, 24]\\n[34, 2]\\n[26, 10]]'),\n",
       " Text(146.475, 27.180000000000007, 'entropy = 0.75\\nsamples = 114\\nvalue = [[105, 9]\\n[79, 35]\\n[44, 70]]'),\n",
       " Text(251.10000000000002, 135.9, 'X[8] <= 1976.5\\nentropy = 0.847\\nsamples = 519\\nvalue = [[305, 214]\\n[284, 235]\\n[449, 70]]'),\n",
       " Text(209.25, 81.53999999999999, 'X[6] <= 429.0\\nentropy = 0.535\\nsamples = 204\\nvalue = [[39, 165]\\n[189, 15]\\n[180, 24]]'),\n",
       " Text(188.32500000000002, 27.180000000000007, 'entropy = 0.793\\nsamples = 84\\nvalue = [[33, 51]\\n[71, 13]\\n[64, 20]]'),\n",
       " Text(230.175, 27.180000000000007, 'entropy = 0.207\\nsamples = 120\\nvalue = [[6, 114]\\n[118, 2]\\n[116, 4]]'),\n",
       " Text(292.95, 81.53999999999999, 'X[6] <= 443.5\\nentropy = 0.702\\nsamples = 315\\nvalue = [[266, 49]\\n[95, 220]\\n[269, 46]]'),\n",
       " Text(272.02500000000003, 27.180000000000007, 'entropy = 0.589\\nsamples = 270\\nvalue = [[250, 20]\\n[61, 209]\\n[229, 41]]'),\n",
       " Text(313.875, 27.180000000000007, 'entropy = 0.748\\nsamples = 45\\nvalue = [[16, 29]\\n[34, 11]\\n[40, 5]]')]"
      ]
     },
     "execution_count": 17,
     "metadata": {},
     "output_type": "execute_result"
    },
    {
     "data": {
      "image/png": "[encoded data removed]",
      "text/plain": [
       "<Figure size 432x288 with 1 Axes>"
      ]
     },
     "metadata": {
      "needs_background": "light"
     },
     "output_type": "display_data"
    }
   ],
   "source": [
    "# Display text version of the tree\n",
    "tree.plot_tree(clf) "
   ]
  },
  {
   "cell_type": "code",
   "execution_count": 18,
   "metadata": {},
   "outputs": [
    {
     "data": {
      "text/plain": [
       "'|--- feature_7 <= 99.50\\n|   |--- feature_6 <= 76.00\\n|   |   |--- feature_7 <= 81.50\\n|   |   |   |--- class: 0\\n|   |   |--- feature_7 >  81.50\\n|   |   |   |--- class: 0\\n|   |--- feature_6 >  76.00\\n|   |   |--- feature_8 <= 1957.50\\n|   |   |   |--- class: 1\\n|   |   |--- feature_8 >  1957.50\\n|   |   |   |--- class: 0\\n|--- feature_7 >  99.50\\n|   |--- feature_8 <= 1976.50\\n|   |   |--- feature_6 <= 429.00\\n|   |   |   |--- class: 1\\n|   |   |--- feature_6 >  429.00\\n|   |   |   |--- class: 1\\n|   |--- feature_8 >  1976.50\\n|   |   |--- feature_6 <= 443.50\\n|   |   |   |--- class: 0\\n|   |   |--- feature_6 >  443.50\\n|   |   |   |--- class: 2\\n'"
      ]
     },
     "execution_count": 18,
     "metadata": {},
     "output_type": "execute_result"
    }
   ],
   "source": [
    "tree.export_text(clf)"
   ]
  },
  {
   "cell_type": "code",
   "execution_count": 19,
   "metadata": {},
   "outputs": [
    {
     "data": {
      "image/svg+xml": [
       "<?xml version=\"1.0\" encoding=\"UTF-8\" standalone=\"no\"?>\n",
       "<!DOCTYPE svg PUBLIC \"-//W3C//DTD SVG 1.1//EN\"\n",
       " \"http://www.w3.org/Graphics/SVG/1.1/DTD/svg11.dtd\">\n",
       "<!-- Generated by graphviz version 2.40.1 (20161225.0304)\n",
       " -->\n",
       "<!-- Title: Tree Pages: 1 -->\n",
       "<svg width=\"1070pt\" height=\"493pt\"\n",
       " viewBox=\"0.00 0.00 1070.00 493.00\" xmlns=\"http://www.w3.org/2000/svg\" xmlns:xlink=\"http://www.w3.org/1999/xlink\">\n",
       "<g id=\"graph0\" class=\"graph\" transform=\"scale(1 1) rotate(0) translate(4 489)\">\n",
       "<title>Tree</title>\n",
       "<polygon fill=\"#ffffff\" stroke=\"transparent\" points=\"-4,4 -4,-489 1066,-489 1066,4 -4,4\"/>\n",
       "<!-- 0 -->\n",
       "<g id=\"node1\" class=\"node\">\n",
       "<title>0</title>\n",
       "<path fill=\"#ffffff\" stroke=\"#000000\" d=\"M574,-485C574,-485 459,-485 459,-485 453,-485 447,-479 447,-473 447,-473 447,-399 447,-399 447,-393 453,-387 459,-387 459,-387 574,-387 574,-387 580,-387 586,-393 586,-399 586,-399 586,-473 586,-473 586,-479 580,-485 574,-485\"/>\n",
       "<text text-anchor=\"start\" x=\"455\" y=\"-469.8\" font-family=\"Helvetica,sans-Serif\" font-size=\"14.00\" fill=\"#000000\">BuildingArea ≤ 99.5</text>\n",
       "<text text-anchor=\"start\" x=\"467.5\" y=\"-454.8\" font-family=\"Helvetica,sans-Serif\" font-size=\"14.00\" fill=\"#000000\">entropy = 0.917</text>\n",
       "<text text-anchor=\"start\" x=\"470.5\" y=\"-439.8\" font-family=\"Helvetica,sans-Serif\" font-size=\"14.00\" fill=\"#000000\">samples = 810</text>\n",
       "<text text-anchor=\"start\" x=\"458.5\" y=\"-424.8\" font-family=\"Helvetica,sans-Serif\" font-size=\"14.00\" fill=\"#000000\">value = [[562, 248]</text>\n",
       "<text text-anchor=\"start\" x=\"485\" y=\"-409.8\" font-family=\"Helvetica,sans-Serif\" font-size=\"14.00\" fill=\"#000000\">[529, 281]</text>\n",
       "<text text-anchor=\"start\" x=\"483\" y=\"-394.8\" font-family=\"Helvetica,sans-Serif\" font-size=\"14.00\" fill=\"#000000\">[529, 281]]</text>\n",
       "</g>\n",
       "<!-- 1 -->\n",
       "<g id=\"node2\" class=\"node\">\n",
       "<title>1</title>\n",
       "<path fill=\"#f7d7c0\" stroke=\"#000000\" d=\"M443.5,-351C443.5,-351 343.5,-351 343.5,-351 337.5,-351 331.5,-345 331.5,-339 331.5,-339 331.5,-265 331.5,-265 331.5,-259 337.5,-253 343.5,-253 343.5,-253 443.5,-253 443.5,-253 449.5,-253 455.5,-259 455.5,-265 455.5,-265 455.5,-339 455.5,-339 455.5,-345 449.5,-351 443.5,-351\"/>\n",
       "<text text-anchor=\"start\" x=\"344\" y=\"-335.8\" font-family=\"Helvetica,sans-Serif\" font-size=\"14.00\" fill=\"#000000\">Landsize ≤ 76.0</text>\n",
       "<text text-anchor=\"start\" x=\"344.5\" y=\"-320.8\" font-family=\"Helvetica,sans-Serif\" font-size=\"14.00\" fill=\"#000000\">entropy = 0.666</text>\n",
       "<text text-anchor=\"start\" x=\"347.5\" y=\"-305.8\" font-family=\"Helvetica,sans-Serif\" font-size=\"14.00\" fill=\"#000000\">samples = 291</text>\n",
       "<text text-anchor=\"start\" x=\"339.5\" y=\"-290.8\" font-family=\"Helvetica,sans-Serif\" font-size=\"14.00\" fill=\"#000000\">value = [[257, 34]</text>\n",
       "<text text-anchor=\"start\" x=\"366\" y=\"-275.8\" font-family=\"Helvetica,sans-Serif\" font-size=\"14.00\" fill=\"#000000\">[245, 46]</text>\n",
       "<text text-anchor=\"start\" x=\"364\" y=\"-260.8\" font-family=\"Helvetica,sans-Serif\" font-size=\"14.00\" fill=\"#000000\">[80, 211]]</text>\n",
       "</g>\n",
       "<!-- 0&#45;&gt;1 -->\n",
       "<g id=\"edge1\" class=\"edge\">\n",
       "<title>0&#45;&gt;1</title>\n",
       "<path fill=\"none\" stroke=\"#000000\" d=\"M471.3978,-386.8642C462.9581,-377.6698 454.074,-367.9912 445.447,-358.5926\"/>\n",
       "<polygon fill=\"#000000\" stroke=\"#000000\" points=\"447.9375,-356.13 438.5968,-351.1298 442.7806,-360.8636 447.9375,-356.13\"/>\n",
       "<text text-anchor=\"middle\" x=\"437.5277\" y=\"-372.407\" font-family=\"Helvetica,sans-Serif\" font-size=\"14.00\" fill=\"#000000\">True</text>\n",
       "</g>\n",
       "<!-- 8 -->\n",
       "<g id=\"node9\" class=\"node\">\n",
       "<title>8</title>\n",
       "<path fill=\"#fdf4ed\" stroke=\"#000000\" d=\"M710.5,-351C710.5,-351 602.5,-351 602.5,-351 596.5,-351 590.5,-345 590.5,-339 590.5,-339 590.5,-265 590.5,-265 590.5,-259 596.5,-253 602.5,-253 602.5,-253 710.5,-253 710.5,-253 716.5,-253 722.5,-259 722.5,-265 722.5,-265 722.5,-339 722.5,-339 722.5,-345 716.5,-351 710.5,-351\"/>\n",
       "<text text-anchor=\"start\" x=\"598.5\" y=\"-335.8\" font-family=\"Helvetica,sans-Serif\" font-size=\"14.00\" fill=\"#000000\">YearBuilt ≤ 1976.5</text>\n",
       "<text text-anchor=\"start\" x=\"607.5\" y=\"-320.8\" font-family=\"Helvetica,sans-Serif\" font-size=\"14.00\" fill=\"#000000\">entropy = 0.847</text>\n",
       "<text text-anchor=\"start\" x=\"610.5\" y=\"-305.8\" font-family=\"Helvetica,sans-Serif\" font-size=\"14.00\" fill=\"#000000\">samples = 519</text>\n",
       "<text text-anchor=\"start\" x=\"598.5\" y=\"-290.8\" font-family=\"Helvetica,sans-Serif\" font-size=\"14.00\" fill=\"#000000\">value = [[305, 214]</text>\n",
       "<text text-anchor=\"start\" x=\"625\" y=\"-275.8\" font-family=\"Helvetica,sans-Serif\" font-size=\"14.00\" fill=\"#000000\">[284, 235]</text>\n",
       "<text text-anchor=\"start\" x=\"627\" y=\"-260.8\" font-family=\"Helvetica,sans-Serif\" font-size=\"14.00\" fill=\"#000000\">[449, 70]]</text>\n",
       "</g>\n",
       "<!-- 0&#45;&gt;8 -->\n",
       "<g id=\"edge8\" class=\"edge\">\n",
       "<title>0&#45;&gt;8</title>\n",
       "<path fill=\"none\" stroke=\"#000000\" d=\"M567.8359,-386.8642C577.5371,-377.5788 587.7543,-367.7995 597.6649,-358.3136\"/>\n",
       "<polygon fill=\"#000000\" stroke=\"#000000\" points=\"600.3662,-360.5729 605.1703,-351.1298 595.526,-355.516 600.3662,-360.5729\"/>\n",
       "<text text-anchor=\"middle\" x=\"604.623\" y=\"-372.4238\" font-family=\"Helvetica,sans-Serif\" font-size=\"14.00\" fill=\"#000000\">False</text>\n",
       "</g>\n",
       "<!-- 2 -->\n",
       "<g id=\"node3\" class=\"node\">\n",
       "<title>2</title>\n",
       "<path fill=\"#e9965a\" stroke=\"#000000\" d=\"M247,-217C247,-217 132,-217 132,-217 126,-217 120,-211 120,-205 120,-205 120,-131 120,-131 120,-125 126,-119 132,-119 132,-119 247,-119 247,-119 253,-119 259,-125 259,-131 259,-131 259,-205 259,-205 259,-211 253,-217 247,-217\"/>\n",
       "<text text-anchor=\"start\" x=\"128\" y=\"-201.8\" font-family=\"Helvetica,sans-Serif\" font-size=\"14.00\" fill=\"#000000\">BuildingArea ≤ 81.5</text>\n",
       "<text text-anchor=\"start\" x=\"140.5\" y=\"-186.8\" font-family=\"Helvetica,sans-Serif\" font-size=\"14.00\" fill=\"#000000\">entropy = 0.258</text>\n",
       "<text text-anchor=\"start\" x=\"143.5\" y=\"-171.8\" font-family=\"Helvetica,sans-Serif\" font-size=\"14.00\" fill=\"#000000\">samples = 141</text>\n",
       "<text text-anchor=\"start\" x=\"139\" y=\"-156.8\" font-family=\"Helvetica,sans-Serif\" font-size=\"14.00\" fill=\"#000000\">value = [[140, 1]</text>\n",
       "<text text-anchor=\"start\" x=\"166\" y=\"-141.8\" font-family=\"Helvetica,sans-Serif\" font-size=\"14.00\" fill=\"#000000\">[132, 9]</text>\n",
       "<text text-anchor=\"start\" x=\"160\" y=\"-126.8\" font-family=\"Helvetica,sans-Serif\" font-size=\"14.00\" fill=\"#000000\">[10, 131]]</text>\n",
       "</g>\n",
       "<!-- 1&#45;&gt;2 -->\n",
       "<g id=\"edge2\" class=\"edge\">\n",
       "<title>1&#45;&gt;2</title>\n",
       "<path fill=\"none\" stroke=\"#000000\" d=\"M331.4624,-261.2498C311.372,-248.0532 288.8247,-233.2427 267.7166,-219.3776\"/>\n",
       "<polygon fill=\"#000000\" stroke=\"#000000\" points=\"269.3637,-216.272 259.084,-213.7071 265.5206,-222.1227 269.3637,-216.272\"/>\n",
       "</g>\n",
       "<!-- 5 -->\n",
       "<g id=\"node6\" class=\"node\">\n",
       "<title>5</title>\n",
       "<path fill=\"#fdf5ef\" stroke=\"#000000\" d=\"M447.5,-217C447.5,-217 339.5,-217 339.5,-217 333.5,-217 327.5,-211 327.5,-205 327.5,-205 327.5,-131 327.5,-131 327.5,-125 333.5,-119 339.5,-119 339.5,-119 447.5,-119 447.5,-119 453.5,-119 459.5,-125 459.5,-131 459.5,-131 459.5,-205 459.5,-205 459.5,-211 453.5,-217 447.5,-217\"/>\n",
       "<text text-anchor=\"start\" x=\"335.5\" y=\"-201.8\" font-family=\"Helvetica,sans-Serif\" font-size=\"14.00\" fill=\"#000000\">YearBuilt ≤ 1957.5</text>\n",
       "<text text-anchor=\"start\" x=\"344.5\" y=\"-186.8\" font-family=\"Helvetica,sans-Serif\" font-size=\"14.00\" fill=\"#000000\">entropy = 0.854</text>\n",
       "<text text-anchor=\"start\" x=\"347.5\" y=\"-171.8\" font-family=\"Helvetica,sans-Serif\" font-size=\"14.00\" fill=\"#000000\">samples = 150</text>\n",
       "<text text-anchor=\"start\" x=\"339.5\" y=\"-156.8\" font-family=\"Helvetica,sans-Serif\" font-size=\"14.00\" fill=\"#000000\">value = [[117, 33]</text>\n",
       "<text text-anchor=\"start\" x=\"366\" y=\"-141.8\" font-family=\"Helvetica,sans-Serif\" font-size=\"14.00\" fill=\"#000000\">[113, 37]</text>\n",
       "<text text-anchor=\"start\" x=\"368\" y=\"-126.8\" font-family=\"Helvetica,sans-Serif\" font-size=\"14.00\" fill=\"#000000\">[70, 80]]</text>\n",
       "</g>\n",
       "<!-- 1&#45;&gt;5 -->\n",
       "<g id=\"edge5\" class=\"edge\">\n",
       "<title>1&#45;&gt;5</title>\n",
       "<path fill=\"none\" stroke=\"#000000\" d=\"M393.5,-252.8642C393.5,-244.5802 393.5,-235.903 393.5,-227.3918\"/>\n",
       "<polygon fill=\"#000000\" stroke=\"#000000\" points=\"397.0001,-227.1298 393.5,-217.1298 390.0001,-227.1299 397.0001,-227.1298\"/>\n",
       "</g>\n",
       "<!-- 3 -->\n",
       "<g id=\"node4\" class=\"node\">\n",
       "<title>3</title>\n",
       "<path fill=\"#e58139\" stroke=\"#000000\" d=\"M105,-83C105,-83 12,-83 12,-83 6,-83 0,-77 0,-71 0,-71 0,-12 0,-12 0,-6 6,0 12,0 12,0 105,0 105,0 111,0 117,-6 117,-12 117,-12 117,-71 117,-71 117,-77 111,-83 105,-83\"/>\n",
       "<text text-anchor=\"start\" x=\"9.5\" y=\"-67.8\" font-family=\"Helvetica,sans-Serif\" font-size=\"14.00\" fill=\"#000000\">entropy = 0.128</text>\n",
       "<text text-anchor=\"start\" x=\"12.5\" y=\"-52.8\" font-family=\"Helvetica,sans-Serif\" font-size=\"14.00\" fill=\"#000000\">samples = 102</text>\n",
       "<text text-anchor=\"start\" x=\"8\" y=\"-37.8\" font-family=\"Helvetica,sans-Serif\" font-size=\"14.00\" fill=\"#000000\">value = [[102, 0]</text>\n",
       "<text text-anchor=\"start\" x=\"39\" y=\"-22.8\" font-family=\"Helvetica,sans-Serif\" font-size=\"14.00\" fill=\"#000000\">[99, 3]</text>\n",
       "<text text-anchor=\"start\" x=\"37\" y=\"-7.8\" font-family=\"Helvetica,sans-Serif\" font-size=\"14.00\" fill=\"#000000\">[3, 99]]</text>\n",
       "</g>\n",
       "<!-- 2&#45;&gt;3 -->\n",
       "<g id=\"edge3\" class=\"edge\">\n",
       "<title>2&#45;&gt;3</title>\n",
       "<path fill=\"none\" stroke=\"#000000\" d=\"M138.4769,-118.7296C128.7447,-109.3317 118.5636,-99.5003 108.8525,-90.1228\"/>\n",
       "<polygon fill=\"#000000\" stroke=\"#000000\" points=\"111.158,-87.4837 101.5332,-83.055 106.2955,-92.5192 111.158,-87.4837\"/>\n",
       "</g>\n",
       "<!-- 4 -->\n",
       "<g id=\"node5\" class=\"node\">\n",
       "<title>4</title>\n",
       "<path fill=\"#f1bb94\" stroke=\"#000000\" d=\"M232,-83C232,-83 147,-83 147,-83 141,-83 135,-77 135,-71 135,-71 135,-12 135,-12 135,-6 141,0 147,0 147,0 232,0 232,0 238,0 244,-6 244,-12 244,-12 244,-71 244,-71 244,-77 238,-83 232,-83\"/>\n",
       "<text text-anchor=\"start\" x=\"144.5\" y=\"-67.8\" font-family=\"Helvetica,sans-Serif\" font-size=\"14.00\" fill=\"#000000\">entropy = 0.49</text>\n",
       "<text text-anchor=\"start\" x=\"147.5\" y=\"-52.8\" font-family=\"Helvetica,sans-Serif\" font-size=\"14.00\" fill=\"#000000\">samples = 39</text>\n",
       "<text text-anchor=\"start\" x=\"143\" y=\"-37.8\" font-family=\"Helvetica,sans-Serif\" font-size=\"14.00\" fill=\"#000000\">value = [[38, 1]</text>\n",
       "<text text-anchor=\"start\" x=\"170\" y=\"-22.8\" font-family=\"Helvetica,sans-Serif\" font-size=\"14.00\" fill=\"#000000\">[33, 6]</text>\n",
       "<text text-anchor=\"start\" x=\"168\" y=\"-7.8\" font-family=\"Helvetica,sans-Serif\" font-size=\"14.00\" fill=\"#000000\">[7, 32]]</text>\n",
       "</g>\n",
       "<!-- 2&#45;&gt;4 -->\n",
       "<g id=\"edge4\" class=\"edge\">\n",
       "<title>2&#45;&gt;4</title>\n",
       "<path fill=\"none\" stroke=\"#000000\" d=\"M189.5,-118.7296C189.5,-110.3452 189.5,-101.6158 189.5,-93.1714\"/>\n",
       "<polygon fill=\"#000000\" stroke=\"#000000\" points=\"193.0001,-93.0549 189.5,-83.055 186.0001,-93.055 193.0001,-93.0549\"/>\n",
       "</g>\n",
       "<!-- 6 -->\n",
       "<g id=\"node7\" class=\"node\">\n",
       "<title>6</title>\n",
       "<path fill=\"#f8dbc7\" stroke=\"#000000\" d=\"M367,-83C367,-83 274,-83 274,-83 268,-83 262,-77 262,-71 262,-71 262,-12 262,-12 262,-6 268,0 274,0 274,0 367,0 367,0 373,0 379,-6 379,-12 379,-12 379,-71 379,-71 379,-77 373,-83 367,-83\"/>\n",
       "<text text-anchor=\"start\" x=\"271.5\" y=\"-67.8\" font-family=\"Helvetica,sans-Serif\" font-size=\"14.00\" fill=\"#000000\">entropy = 0.693</text>\n",
       "<text text-anchor=\"start\" x=\"278.5\" y=\"-52.8\" font-family=\"Helvetica,sans-Serif\" font-size=\"14.00\" fill=\"#000000\">samples = 36</text>\n",
       "<text text-anchor=\"start\" x=\"270\" y=\"-37.8\" font-family=\"Helvetica,sans-Serif\" font-size=\"14.00\" fill=\"#000000\">value = [[12, 24]</text>\n",
       "<text text-anchor=\"start\" x=\"301\" y=\"-22.8\" font-family=\"Helvetica,sans-Serif\" font-size=\"14.00\" fill=\"#000000\">[34, 2]</text>\n",
       "<text text-anchor=\"start\" x=\"295\" y=\"-7.8\" font-family=\"Helvetica,sans-Serif\" font-size=\"14.00\" fill=\"#000000\">[26, 10]]</text>\n",
       "</g>\n",
       "<!-- 5&#45;&gt;6 -->\n",
       "<g id=\"edge6\" class=\"edge\">\n",
       "<title>5&#45;&gt;6</title>\n",
       "<path fill=\"none\" stroke=\"#000000\" d=\"M365.0673,-118.7296C359.963,-109.8845 354.6371,-100.6555 349.5166,-91.7822\"/>\n",
       "<polygon fill=\"#000000\" stroke=\"#000000\" points=\"352.51,-89.9669 344.4803,-83.055 346.4471,-93.4657 352.51,-89.9669\"/>\n",
       "</g>\n",
       "<!-- 7 -->\n",
       "<g id=\"node8\" class=\"node\">\n",
       "<title>7</title>\n",
       "<path fill=\"#fae4d5\" stroke=\"#000000\" d=\"M502,-83C502,-83 409,-83 409,-83 403,-83 397,-77 397,-71 397,-71 397,-12 397,-12 397,-6 403,0 409,0 409,0 502,0 502,0 508,0 514,-6 514,-12 514,-12 514,-71 514,-71 514,-77 508,-83 502,-83\"/>\n",
       "<text text-anchor=\"start\" x=\"410.5\" y=\"-67.8\" font-family=\"Helvetica,sans-Serif\" font-size=\"14.00\" fill=\"#000000\">entropy = 0.75</text>\n",
       "<text text-anchor=\"start\" x=\"409.5\" y=\"-52.8\" font-family=\"Helvetica,sans-Serif\" font-size=\"14.00\" fill=\"#000000\">samples = 114</text>\n",
       "<text text-anchor=\"start\" x=\"405\" y=\"-37.8\" font-family=\"Helvetica,sans-Serif\" font-size=\"14.00\" fill=\"#000000\">value = [[105, 9]</text>\n",
       "<text text-anchor=\"start\" x=\"432\" y=\"-22.8\" font-family=\"Helvetica,sans-Serif\" font-size=\"14.00\" fill=\"#000000\">[79, 35]</text>\n",
       "<text text-anchor=\"start\" x=\"430\" y=\"-7.8\" font-family=\"Helvetica,sans-Serif\" font-size=\"14.00\" fill=\"#000000\">[44, 70]]</text>\n",
       "</g>\n",
       "<!-- 5&#45;&gt;7 -->\n",
       "<g id=\"edge7\" class=\"edge\">\n",
       "<title>5&#45;&gt;7</title>\n",
       "<path fill=\"none\" stroke=\"#000000\" d=\"M417.6484,-118.7296C421.9383,-109.9766 426.4126,-100.8477 430.7198,-92.0596\"/>\n",
       "<polygon fill=\"#000000\" stroke=\"#000000\" points=\"433.8749,-93.5748 435.1331,-83.055 427.5893,-90.4941 433.8749,-93.5748\"/>\n",
       "</g>\n",
       "<!-- 9 -->\n",
       "<g id=\"node10\" class=\"node\">\n",
       "<title>9</title>\n",
       "<path fill=\"#f2c29f\" stroke=\"#000000\" d=\"M706.5,-217C706.5,-217 606.5,-217 606.5,-217 600.5,-217 594.5,-211 594.5,-205 594.5,-205 594.5,-131 594.5,-131 594.5,-125 600.5,-119 606.5,-119 606.5,-119 706.5,-119 706.5,-119 712.5,-119 718.5,-125 718.5,-131 718.5,-131 718.5,-205 718.5,-205 718.5,-211 712.5,-217 706.5,-217\"/>\n",
       "<text text-anchor=\"start\" x=\"603\" y=\"-201.8\" font-family=\"Helvetica,sans-Serif\" font-size=\"14.00\" fill=\"#000000\">Landsize ≤ 429.0</text>\n",
       "<text text-anchor=\"start\" x=\"607.5\" y=\"-186.8\" font-family=\"Helvetica,sans-Serif\" font-size=\"14.00\" fill=\"#000000\">entropy = 0.535</text>\n",
       "<text text-anchor=\"start\" x=\"610.5\" y=\"-171.8\" font-family=\"Helvetica,sans-Serif\" font-size=\"14.00\" fill=\"#000000\">samples = 204</text>\n",
       "<text text-anchor=\"start\" x=\"602.5\" y=\"-156.8\" font-family=\"Helvetica,sans-Serif\" font-size=\"14.00\" fill=\"#000000\">value = [[39, 165]</text>\n",
       "<text text-anchor=\"start\" x=\"629\" y=\"-141.8\" font-family=\"Helvetica,sans-Serif\" font-size=\"14.00\" fill=\"#000000\">[189, 15]</text>\n",
       "<text text-anchor=\"start\" x=\"627\" y=\"-126.8\" font-family=\"Helvetica,sans-Serif\" font-size=\"14.00\" fill=\"#000000\">[180, 24]]</text>\n",
       "</g>\n",
       "<!-- 8&#45;&gt;9 -->\n",
       "<g id=\"edge9\" class=\"edge\">\n",
       "<title>8&#45;&gt;9</title>\n",
       "<path fill=\"none\" stroke=\"#000000\" d=\"M656.5,-252.8642C656.5,-244.5802 656.5,-235.903 656.5,-227.3918\"/>\n",
       "<polygon fill=\"#000000\" stroke=\"#000000\" points=\"660.0001,-227.1298 656.5,-217.1298 653.0001,-227.1299 660.0001,-227.1298\"/>\n",
       "</g>\n",
       "<!-- 12 -->\n",
       "<g id=\"node13\" class=\"node\">\n",
       "<title>12</title>\n",
       "<path fill=\"#f8ddc9\" stroke=\"#000000\" d=\"M914.5,-217C914.5,-217 814.5,-217 814.5,-217 808.5,-217 802.5,-211 802.5,-205 802.5,-205 802.5,-131 802.5,-131 802.5,-125 808.5,-119 814.5,-119 814.5,-119 914.5,-119 914.5,-119 920.5,-119 926.5,-125 926.5,-131 926.5,-131 926.5,-205 926.5,-205 926.5,-211 920.5,-217 914.5,-217\"/>\n",
       "<text text-anchor=\"start\" x=\"811\" y=\"-201.8\" font-family=\"Helvetica,sans-Serif\" font-size=\"14.00\" fill=\"#000000\">Landsize ≤ 443.5</text>\n",
       "<text text-anchor=\"start\" x=\"815.5\" y=\"-186.8\" font-family=\"Helvetica,sans-Serif\" font-size=\"14.00\" fill=\"#000000\">entropy = 0.702</text>\n",
       "<text text-anchor=\"start\" x=\"818.5\" y=\"-171.8\" font-family=\"Helvetica,sans-Serif\" font-size=\"14.00\" fill=\"#000000\">samples = 315</text>\n",
       "<text text-anchor=\"start\" x=\"810.5\" y=\"-156.8\" font-family=\"Helvetica,sans-Serif\" font-size=\"14.00\" fill=\"#000000\">value = [[266, 49]</text>\n",
       "<text text-anchor=\"start\" x=\"837\" y=\"-141.8\" font-family=\"Helvetica,sans-Serif\" font-size=\"14.00\" fill=\"#000000\">[95, 220]</text>\n",
       "<text text-anchor=\"start\" x=\"835\" y=\"-126.8\" font-family=\"Helvetica,sans-Serif\" font-size=\"14.00\" fill=\"#000000\">[269, 46]]</text>\n",
       "</g>\n",
       "<!-- 8&#45;&gt;12 -->\n",
       "<g id=\"edge12\" class=\"edge\">\n",
       "<title>8&#45;&gt;12</title>\n",
       "<path fill=\"none\" stroke=\"#000000\" d=\"M722.5983,-259.4174C745.2766,-244.8074 770.7404,-228.4028 793.7711,-213.5657\"/>\n",
       "<polygon fill=\"#000000\" stroke=\"#000000\" points=\"795.9568,-216.3211 802.4678,-207.963 792.1657,-210.4365 795.9568,-216.3211\"/>\n",
       "</g>\n",
       "<!-- 10 -->\n",
       "<g id=\"node11\" class=\"node\">\n",
       "<title>10</title>\n",
       "<path fill=\"#fbebe0\" stroke=\"#000000\" d=\"M637,-83C637,-83 544,-83 544,-83 538,-83 532,-77 532,-71 532,-71 532,-12 532,-12 532,-6 538,0 544,0 544,0 637,0 637,0 643,0 649,-6 649,-12 649,-12 649,-71 649,-71 649,-77 643,-83 637,-83\"/>\n",
       "<text text-anchor=\"start\" x=\"541.5\" y=\"-67.8\" font-family=\"Helvetica,sans-Serif\" font-size=\"14.00\" fill=\"#000000\">entropy = 0.793</text>\n",
       "<text text-anchor=\"start\" x=\"548.5\" y=\"-52.8\" font-family=\"Helvetica,sans-Serif\" font-size=\"14.00\" fill=\"#000000\">samples = 84</text>\n",
       "<text text-anchor=\"start\" x=\"540\" y=\"-37.8\" font-family=\"Helvetica,sans-Serif\" font-size=\"14.00\" fill=\"#000000\">value = [[33, 51]</text>\n",
       "<text text-anchor=\"start\" x=\"567\" y=\"-22.8\" font-family=\"Helvetica,sans-Serif\" font-size=\"14.00\" fill=\"#000000\">[71, 13]</text>\n",
       "<text text-anchor=\"start\" x=\"565\" y=\"-7.8\" font-family=\"Helvetica,sans-Serif\" font-size=\"14.00\" fill=\"#000000\">[64, 20]]</text>\n",
       "</g>\n",
       "<!-- 9&#45;&gt;10 -->\n",
       "<g id=\"edge10\" class=\"edge\">\n",
       "<title>9&#45;&gt;10</title>\n",
       "<path fill=\"none\" stroke=\"#000000\" d=\"M630.7937,-118.7296C626.2269,-109.9766 621.464,-100.8477 616.8789,-92.0596\"/>\n",
       "<polygon fill=\"#000000\" stroke=\"#000000\" points=\"619.9096,-90.3018 612.1808,-83.055 613.7035,-93.5398 619.9096,-90.3018\"/>\n",
       "</g>\n",
       "<!-- 11 -->\n",
       "<g id=\"node12\" class=\"node\">\n",
       "<title>11</title>\n",
       "<path fill=\"#e88e4d\" stroke=\"#000000\" d=\"M772,-83C772,-83 679,-83 679,-83 673,-83 667,-77 667,-71 667,-71 667,-12 667,-12 667,-6 673,0 679,0 679,0 772,0 772,0 778,0 784,-6 784,-12 784,-12 784,-71 784,-71 784,-77 778,-83 772,-83\"/>\n",
       "<text text-anchor=\"start\" x=\"676.5\" y=\"-67.8\" font-family=\"Helvetica,sans-Serif\" font-size=\"14.00\" fill=\"#000000\">entropy = 0.207</text>\n",
       "<text text-anchor=\"start\" x=\"679.5\" y=\"-52.8\" font-family=\"Helvetica,sans-Serif\" font-size=\"14.00\" fill=\"#000000\">samples = 120</text>\n",
       "<text text-anchor=\"start\" x=\"675\" y=\"-37.8\" font-family=\"Helvetica,sans-Serif\" font-size=\"14.00\" fill=\"#000000\">value = [[6, 114]</text>\n",
       "<text text-anchor=\"start\" x=\"702\" y=\"-22.8\" font-family=\"Helvetica,sans-Serif\" font-size=\"14.00\" fill=\"#000000\">[118, 2]</text>\n",
       "<text text-anchor=\"start\" x=\"700\" y=\"-7.8\" font-family=\"Helvetica,sans-Serif\" font-size=\"14.00\" fill=\"#000000\">[116, 4]]</text>\n",
       "</g>\n",
       "<!-- 9&#45;&gt;11 -->\n",
       "<g id=\"edge11\" class=\"edge\">\n",
       "<title>9&#45;&gt;11</title>\n",
       "<path fill=\"none\" stroke=\"#000000\" d=\"M683.3748,-118.7296C688.1491,-109.9766 693.1285,-100.8477 697.922,-92.0596\"/>\n",
       "<polygon fill=\"#000000\" stroke=\"#000000\" points=\"701.1177,-93.5099 702.8337,-83.055 694.9724,-90.1579 701.1177,-93.5099\"/>\n",
       "</g>\n",
       "<!-- 13 -->\n",
       "<g id=\"node14\" class=\"node\">\n",
       "<title>13</title>\n",
       "<path fill=\"#f4cbad\" stroke=\"#000000\" d=\"M914.5,-83C914.5,-83 814.5,-83 814.5,-83 808.5,-83 802.5,-77 802.5,-71 802.5,-71 802.5,-12 802.5,-12 802.5,-6 808.5,0 814.5,0 814.5,0 914.5,0 914.5,0 920.5,0 926.5,-6 926.5,-12 926.5,-12 926.5,-71 926.5,-71 926.5,-77 920.5,-83 914.5,-83\"/>\n",
       "<text text-anchor=\"start\" x=\"815.5\" y=\"-67.8\" font-family=\"Helvetica,sans-Serif\" font-size=\"14.00\" fill=\"#000000\">entropy = 0.589</text>\n",
       "<text text-anchor=\"start\" x=\"818.5\" y=\"-52.8\" font-family=\"Helvetica,sans-Serif\" font-size=\"14.00\" fill=\"#000000\">samples = 270</text>\n",
       "<text text-anchor=\"start\" x=\"810.5\" y=\"-37.8\" font-family=\"Helvetica,sans-Serif\" font-size=\"14.00\" fill=\"#000000\">value = [[250, 20]</text>\n",
       "<text text-anchor=\"start\" x=\"837\" y=\"-22.8\" font-family=\"Helvetica,sans-Serif\" font-size=\"14.00\" fill=\"#000000\">[61, 209]</text>\n",
       "<text text-anchor=\"start\" x=\"835\" y=\"-7.8\" font-family=\"Helvetica,sans-Serif\" font-size=\"14.00\" fill=\"#000000\">[229, 41]]</text>\n",
       "</g>\n",
       "<!-- 12&#45;&gt;13 -->\n",
       "<g id=\"edge13\" class=\"edge\">\n",
       "<title>12&#45;&gt;13</title>\n",
       "<path fill=\"none\" stroke=\"#000000\" d=\"M864.5,-118.7296C864.5,-110.3452 864.5,-101.6158 864.5,-93.1714\"/>\n",
       "<polygon fill=\"#000000\" stroke=\"#000000\" points=\"868.0001,-93.0549 864.5,-83.055 861.0001,-93.055 868.0001,-93.0549\"/>\n",
       "</g>\n",
       "<!-- 14 -->\n",
       "<g id=\"node15\" class=\"node\">\n",
       "<title>14</title>\n",
       "<path fill=\"#f9e4d5\" stroke=\"#000000\" d=\"M1050,-83C1050,-83 957,-83 957,-83 951,-83 945,-77 945,-71 945,-71 945,-12 945,-12 945,-6 951,0 957,0 957,0 1050,0 1050,0 1056,0 1062,-6 1062,-12 1062,-12 1062,-71 1062,-71 1062,-77 1056,-83 1050,-83\"/>\n",
       "<text text-anchor=\"start\" x=\"954.5\" y=\"-67.8\" font-family=\"Helvetica,sans-Serif\" font-size=\"14.00\" fill=\"#000000\">entropy = 0.748</text>\n",
       "<text text-anchor=\"start\" x=\"961.5\" y=\"-52.8\" font-family=\"Helvetica,sans-Serif\" font-size=\"14.00\" fill=\"#000000\">samples = 45</text>\n",
       "<text text-anchor=\"start\" x=\"953\" y=\"-37.8\" font-family=\"Helvetica,sans-Serif\" font-size=\"14.00\" fill=\"#000000\">value = [[16, 29]</text>\n",
       "<text text-anchor=\"start\" x=\"980\" y=\"-22.8\" font-family=\"Helvetica,sans-Serif\" font-size=\"14.00\" fill=\"#000000\">[34, 11]</text>\n",
       "<text text-anchor=\"start\" x=\"982\" y=\"-7.8\" font-family=\"Helvetica,sans-Serif\" font-size=\"14.00\" fill=\"#000000\">[40, 5]]</text>\n",
       "</g>\n",
       "<!-- 12&#45;&gt;14 -->\n",
       "<g id=\"edge14\" class=\"edge\">\n",
       "<title>12&#45;&gt;14</title>\n",
       "<path fill=\"none\" stroke=\"#000000\" d=\"M918.639,-118.7296C929.0668,-109.2395 939.9803,-99.3075 950.3755,-89.8472\"/>\n",
       "<polygon fill=\"#000000\" stroke=\"#000000\" points=\"952.7988,-92.3742 957.8388,-83.055 948.0872,-87.1972 952.7988,-92.3742\"/>\n",
       "</g>\n",
       "</g>\n",
       "</svg>\n"
      ],
      "text/plain": [
       "<graphviz.files.Source at 0x1b1b15b1d0>"
      ]
     },
     "execution_count": 19,
     "metadata": {},
     "output_type": "execute_result"
    }
   ],
   "source": [
    "# Display graphviz version of the tree\n",
    "dot_tree = tree.export_graphviz(clf, out_file=None, feature_names=train_x.columns, \\\n",
    "                                class_names=train_y.columns, filled=True, rounded=True, \\\n",
    "                                special_characters=True) \n",
    "graph = graphviz.Source(dot_tree)  \n",
    "graph.render(\"melb\") \n",
    "graph "
   ]
  },
  {
   "cell_type": "markdown",
   "metadata": {},
   "source": [
    "➡️ We can observe that there are three attributes in the tree: BuilgdingArea, Landsize, YearBuilt. The first thing that the tree uses BuilgdingArea as it's parent node classifier. Notice that the sample size and entropy get decreased as the tree grows. The leaf nodes tell us the most important insights. For example, those with BuildingArea less than equal to 81.5 and Landsize less than equal to 76.0 have the lowest (purest) entropy with sample size of 102. It predicts that Type would be \"u\" which most likely to be 1 (3 vs 99). It is interesting that the tree examine BuildingArea twice when BuildingArea <= 99.5 and Landsize <= 76.0. Notice that the sum of each inner list in each value equals to the node's sample size. It is also interesting that when BuildingArea > 99.5 and YearBuilt is either less than 1976.5 or greater than 1976.5, the Landsize is a sole classifier attribute.  ⬅️"
   ]
  },
  {
   "cell_type": "markdown",
   "metadata": {},
   "source": [
    "## Q7 Calculate the Accuracy and Display Learning Curve\n",
    "Load in the test data from melb_tree_test.csv.\n",
    "\n",
    "Use the scikit-learn library to create many decision trees, each one with a different configuration (aka Hyperparameters).  You will create 28 different trees by:\n",
    "\n",
    "    - Varying the max depth from 2 to 15 with the Gini Index as the impurity measure\n",
    "    - Varying the max depth from 2 to 15 with the Entropy as the impurity measure\n",
    "\n",
    "Implementation tip: you can create an array of numbers from 2 to 15 by using the numpy function [arange](https://numpy.org/doc/stable/reference/generated/numpy.arange.html).\n",
    "\n",
    "For each of the 28 decistion trees, calculate the error rate by using the data in the: \n",
    "  - Training set, and\n",
    "  - Test set.\n",
    "\n",
    "Display the results graphicaly, and offer an analysis of the trend (or if no trend present, offer a hypotheisis of why).  The max depth should be on the x-axis, and the error rate should be on the y-axis (see figure 3.23 in your DM textbook for a similar style of graph that uses leaf nodes instead of depth for the x-axis). Your plot will include 4 series of data\n",
    "   - Test error (entropy)\n",
    "   - Test error (gini index)\n",
    "   - Training error (entropy)\n",
    "   - Training error (gini index)"
   ]
  },
  {
   "cell_type": "code",
   "execution_count": 20,
   "metadata": {},
   "outputs": [],
   "source": [
    "# Load in the test data\n",
    "test_df = pd.read_csv(\"melb_tree_test.csv\")\n",
    "test_df = pd.get_dummies(test_df, columns=['Type', 'CouncilArea'])\n",
    "test_x = test_df[['Rooms', 'Price', 'Distance', 'Bedroom2', 'Bathroom', 'Car', 'Landsize', 'BuildingArea', 'YearBuilt', \\\n",
    "          'CouncilArea_Banyule', 'CouncilArea_Bayside', 'CouncilArea_Boroondara', 'CouncilArea_Brimbank', \\\n",
    "           'CouncilArea_Darebin', 'CouncilArea_Glen Eira', 'CouncilArea_Hobsons Bay', 'CouncilArea_Hume', \\\n",
    "           'CouncilArea_Kingston', 'CouncilArea_Knox', 'CouncilArea_Manningham', 'CouncilArea_Maribyrnong', \\\n",
    "           'CouncilArea_Melbourne', 'CouncilArea_Monash', 'CouncilArea_Moonee Valley', 'CouncilArea_Moreland', \\\n",
    "           'CouncilArea_Port Phillip', 'CouncilArea_Stonnington', 'CouncilArea_Whitehorse', 'CouncilArea_Wyndham', \\\n",
    "           'CouncilArea_Yarra']]\n",
    "test_y = test_df[['Type_h', 'Type_t', 'Type_u']]\n"
   ]
  },
  {
   "cell_type": "code",
   "execution_count": 21,
   "metadata": {},
   "outputs": [],
   "source": [
    "def error_rate(train_x, train_y, xTest, crit):\n",
    "    err_lst = []\n",
    "    for i in np.arange(2, 16): \n",
    "        error_sum = 0\n",
    "        total_predict = 0\n",
    "        clf = tree.DecisionTreeClassifier(criterion=crit, max_depth=i) #new tree with new max depth\n",
    "        clf = clf.fit(train_x, train_y)\n",
    "        y_hat = clf.predict(xTest)\n",
    "        for row in range(len(y_hat)):\n",
    "            total_predict += 1\n",
    "            if ''.join(map(str, train_y.to_numpy()[row])) != ''.join(map(str, y_hat[row])):\n",
    "                error_sum += 1\n",
    "        err_lst.append(error_sum/total_predict)\n",
    "    return err_lst\n",
    "    '''\n",
    "    print(\"Tree with \" + crit + \": \")\n",
    "    for j in np.arange(2, 16): \n",
    "        print(\"Error Rate of a tree with max depth of {}: {}\".format(j, err_lst[2-j]))\n",
    "    '''"
   ]
  },
  {
   "cell_type": "code",
   "execution_count": 22,
   "metadata": {
    "scrolled": true
   },
   "outputs": [],
   "source": [
    "train_err_gini = pd.Series(error_rate(train_x, train_y, train_x, \"gini\"), index=np.arange(2, 16))\n",
    "test_err_gini = pd.Series(error_rate(test_x, test_y, test_x, \"gini\"), index=np.arange(2, 16))\n",
    "train_err_ent = pd.Series(error_rate(train_x, train_y, train_x, \"entropy\"), index=np.arange(2, 16))\n",
    "test_err_ent = pd.Series(error_rate(test_x, test_y, test_x, \"entropy\"), index=np.arange(2, 16))"
   ]
  },
  {
   "cell_type": "code",
   "execution_count": 23,
   "metadata": {},
   "outputs": [
    {
     "data": {
      "text/plain": [
       "<matplotlib.legend.Legend at 0x1b1b17ac10>"
      ]
     },
     "execution_count": 23,
     "metadata": {},
     "output_type": "execute_result"
    },
    {
     "data": {
      "image/png": "[encoded data removed]",
      "text/plain": [
       "<Figure size 1152x432 with 1 Axes>"
      ]
     },
     "metadata": {
      "needs_background": "light"
     },
     "output_type": "display_data"
    }
   ],
   "source": [
    "# Plot the 4 learning curves\n",
    "plt.figure(figsize=(16,6))\n",
    "plt.grid()\n",
    "plt.plot(train_err_gini.index, train_err_gini.values, 'bs-', data=train_err_gini, label=\"Train Error Rate (Gini)\")\n",
    "plt.plot(test_err_gini.index, test_err_gini.values, 'rs-', data=test_err_gini, label=\"Test Error Rate (Gini)\")\n",
    "plt.xlabel(\"Number of Max_depth\",  fontsize=15)\n",
    "plt.ylabel(\"Error Rate\",  fontsize=15)\n",
    "plt.title(\"Error Rate Trend of Decision Tree models of Max depth of from 2 to 15 (Gini)\", fontsize=20)\n",
    "plt.legend()"
   ]
  },
  {
   "cell_type": "code",
   "execution_count": 24,
   "metadata": {},
   "outputs": [
    {
     "data": {
      "text/plain": [
       "<matplotlib.legend.Legend at 0x10454af90>"
      ]
     },
     "execution_count": 24,
     "metadata": {},
     "output_type": "execute_result"
    },
    {
     "data": {
      "image/png": "[encoded data removed]",
      "text/plain": [
       "<Figure size 1152x432 with 1 Axes>"
      ]
     },
     "metadata": {
      "needs_background": "light"
     },
     "output_type": "display_data"
    }
   ],
   "source": [
    "plt.figure(figsize=(16,6))\n",
    "plt.grid()\n",
    "plt.plot(train_err_ent, 'cs-', data=train_err_ent, label=\"Train Error Rate (Entropy)\")\n",
    "plt.plot(test_err_ent, 'ms-', data=test_err_ent, label=\"Test Error Rate (Entropy)\")\n",
    "plt.xlabel(\"Number of Max_depth\",  fontsize=15)\n",
    "plt.ylabel(\"Error Rate\",  fontsize=15)\n",
    "plt.title(\"Error Rate Trend of Decision Tree models of Max depth of from 2 to 15 (Entropy)\", fontsize=20)\n",
    "plt.legend()"
   ]
  },
  {
   "cell_type": "markdown",
   "metadata": {},
   "source": [
    "➡️ As the number of max depth increases, we can observe that the error rate decreases - so the graphs show negative trend (or slope). The trend of train graph indicates it will reach to zero erro rate soon (probably after 3~4 additional max_depth). Since the test graphs already reached to zero error rate, there would be no need to increase number of max_depth more than 10. The test error rate reaches zero at max depth of 10 in Gini graph and 9 in Entropy graph. We can see both the test graphs are lower than its train graphs. This is probably because the train graphs' amount of inputed data is much greater than that of test graphs (810 vs 210 rows) ⬅️"
   ]
  },
  {
   "cell_type": "code",
   "execution_count": null,
   "metadata": {},
   "outputs": [],
   "source": []
  }
 ],
 "metadata": {
  "kernelspec": {
   "display_name": "Python 3",
   "language": "python",
   "name": "python3"
  },
  "language_info": {
   "codemirror_mode": {
    "name": "ipython",
    "version": 3
   },
   "file_extension": ".py",
   "mimetype": "text/x-python",
   "name": "python",
   "nbconvert_exporter": "python",
   "pygments_lexer": "ipython3",
   "version": "3.7.6"
  }
 },
 "nbformat": 4,
 "nbformat_minor": 4
}
